{
 "cells": [
  {
   "cell_type": "code",
   "execution_count": 1,
   "metadata": {},
   "outputs": [],
   "source": [
    "import pandas as pd\n",
    "import seaborn as sns\n",
    "import matplotlib.pyplot as plt\n",
    "from wordcloud import WordCloud\n",
    "from datetime import datetime\n",
    "from PIL import features\n",
    "import numpy as np\n",
    "\n",
    "import sys\n",
    "import os\n",
    "\n",
    "\n",
    "current_dir = os.getcwd()\n",
    "sys.path.append(os.path.join(current_dir, '..'))\n",
    "\n",
    "import ETL.utils as ut"
   ]
  },
  {
   "cell_type": "code",
   "execution_count": 2,
   "metadata": {},
   "outputs": [],
   "source": [
    "# Load datasets\n",
    "\n",
    "steam_games_df = pd.read_csv('../data/generated/steam_games.csv',dtype={'id': str})\n",
    "items_df = pd.read_csv('../data/generated/items.csv', dtype={'item_id': str})\n",
    "reviews_df = pd.read_csv('../data/generated/reviews_sentiment.csv', dtype={'item_id': str})\n"
   ]
  },
  {
   "cell_type": "code",
   "execution_count": 3,
   "metadata": {},
   "outputs": [],
   "source": [
    "columnas_object = steam_games_df.select_dtypes(include=['object']).columns\n",
    "steam_games_df[columnas_object] = steam_games_df[columnas_object].astype(str)\n",
    "\n",
    "columnas_object = items_df.select_dtypes(include=['object']).columns\n",
    "items_df[columnas_object] = items_df[columnas_object].astype(str)\n",
    "\n",
    "columnas_object = reviews_df.select_dtypes(include=['object']).columns\n",
    "reviews_df[columnas_object] = reviews_df[columnas_object].astype(str)"
   ]
  },
  {
   "cell_type": "markdown",
   "metadata": {},
   "source": [
    "### Creation of specific dataframes for the queries.\""
   ]
  },
  {
   "cell_type": "markdown",
   "metadata": {},
   "source": [
    "#### developer"
   ]
  },
  {
   "cell_type": "code",
   "execution_count": 5,
   "metadata": {},
   "outputs": [],
   "source": [
    "# Merge dataframes using \"id\" and \"item_id\" as keys\n",
    "merged_df = pd.merge(steam_games_df, items_df, left_on='id', right_on='item_id', how='inner')\n",
    "\n",
    "# Filter free games\n",
    "free_games_df = merged_df[merged_df['price'] == 0]\n",
    "\n",
    "# Group by developer and calculate item quantity and free content\n",
    "developer_df = free_games_df.groupby('developer').agg({\n",
    "    'release_date': 'first',  # Assuming 'release_date' is the column for the release year\n",
    "    'item_id': 'count',        # Item quantity\n",
    "    'price': lambda x: any(x == 0)  # Check if there is free content\n",
    "}).reset_index()\n",
    "\n",
    "# Rename columns\n",
    "developer_df.columns = ['developer', 'year', 'items quantity', 'free content']\n"
   ]
  },
  {
   "cell_type": "code",
   "execution_count": 6,
   "metadata": {},
   "outputs": [],
   "source": [
    "path = r'../simplified-data/'\n",
    "developer_df.to_csv(path + 'developer_df.csv', index=False)"
   ]
  },
  {
   "cell_type": "markdown",
   "metadata": {},
   "source": [
    "#### userdata (New)"
   ]
  },
  {
   "cell_type": "markdown",
   "metadata": {},
   "source": [
    "def userdata( User_id : str ): Debe devolver cantidad de dinero gastado por el usuario, el porcentaje de recomendación en base a reviews.recommend y cantidad de items."
   ]
  },
  {
   "cell_type": "code",
   "execution_count": null,
   "metadata": {},
   "outputs": [
    {
     "ename": "",
     "evalue": "",
     "output_type": "error",
     "traceback": [
      "\u001b[1;31mThe Kernel crashed while executing code in the the current cell or a previous cell. Please review the code in the cell(s) to identify a possible cause of the failure. Click <a href='https://aka.ms/vscodeJupyterKernelCrash'>here</a> for more info. View Jupyter <a href='command:jupyter.viewOutput'>log</a> for further details."
     ]
    }
   ],
   "source": [
    "# Merge the games and items dataframes\n",
    "merged_items_df = pd.merge(steam_games_df, items_df, left_on='id', right_on='item_id', how='inner')\n",
    "\n",
    "# Merge the merged_items_df with the reviews dataframe\n",
    "final_df = pd.merge(merged_items_df, reviews_df, on='item_id', how='inner')\n",
    "\n",
    "# Group by user_id and calculate the sum of prices, number of unique items, and mean of recommendations\n",
    "userdata_df = final_df.groupby('user_id').agg({\n",
    "    'price': 'sum',\n",
    "    'item_id': 'nunique',\n",
    "    'recommend': 'mean'\n",
    "}).reset_index()\n",
    "\n",
    "# Rename columns\n",
    "userdata_df.rename(columns={'price': 'spent money', 'item_id': 'items quantity', 'recommend': 'recommendation percentage'}, inplace=True)"
   ]
  },
  {
   "cell_type": "code",
   "execution_count": null,
   "metadata": {},
   "outputs": [],
   "source": [
    "path = r'../simplified-data/'\n",
    "userdata_df.to_csv(path + 'userdata_df.csv', index=False)"
   ]
  },
  {
   "cell_type": "markdown",
   "metadata": {},
   "source": [
    "#### UserFoGenre"
   ]
  },
  {
   "cell_type": "code",
   "execution_count": 36,
   "metadata": {},
   "outputs": [],
   "source": [
    "# Step 1: Merge DataFrames based on the \"id\" and \"item_id\" keys\n",
    "merged_df = pd.merge(steam_games_df, items_df, left_on='id', right_on='item_id', how='inner')\n",
    "\n",
    "# Step 2: Explore genre lists and expand them into rows\n",
    "merged_df = merged_df.explode('genres')\n",
    "\n",
    "merged_df['release_date'] = merged_df['release_date'].apply(parse_date)\n",
    "\n",
    "# Step 3: Drop rows with null values in relevant columns\n",
    "merged_df = merged_df.dropna(subset=['playtime_forever', 'genres', 'user_id', 'release_date'])\n",
    "\n",
    "# Step 4: Filter rows with positive playtime\n",
    "merged_df = merged_df[merged_df['playtime_forever'] > 0]\n",
    "\n",
    "# Apply the function to each row\n",
    "merged_df['genres'] = merged_df.apply(process_genres, axis=1)\n",
    "\n",
    "# Apply the function to each row and create a new column 'processed_genres'\n",
    "merged_df['processed_genres'] = merged_df.apply(process_genres, axis=1)\n",
    "\n",
    "# Explode the 'processed_genres' column to create separate rows for each genre\n",
    "merged_df = merged_df.explode('processed_genres')\n",
    "\n",
    "# Step 5: Group by processed_genres, user, year, and calculate the sum of playtime\n",
    "user_for_genre_df = merged_df.groupby(['processed_genres', 'user_id', merged_df['release_date'].dt.year.astype(int)])['playtime_forever'].sum().reset_index()\n",
    "\n",
    "# Step 6: Find the user with the most playtime for each genre and year\n",
    "user_for_genre_df = user_for_genre_df.loc[user_for_genre_df.groupby(['processed_genres', 'release_date'])['playtime_forever'].idxmax()]\n",
    "\n",
    "# Rename columns as per your requirements\n",
    "user_for_genre_df.columns = ['genres', 'user', 'year', 'playtime_forever']\n",
    "user_for_genre_df[\"playtime_forever\"] = user_for_genre_df[\"playtime_forever\"].astype(int)"
   ]
  },
  {
   "cell_type": "code",
   "execution_count": 37,
   "metadata": {},
   "outputs": [
    {
     "name": "stdout",
     "output_type": "stream",
     "text": [
      "\n",
      "Total rows:  189\n",
      "\n",
      "Total full null rows:  0\n",
      "\n",
      "Total duplicated rows: 0\n"
     ]
    },
    {
     "data": {
      "text/html": [
       "<div>\n",
       "<style scoped>\n",
       "    .dataframe tbody tr th:only-of-type {\n",
       "        vertical-align: middle;\n",
       "    }\n",
       "\n",
       "    .dataframe tbody tr th {\n",
       "        vertical-align: top;\n",
       "    }\n",
       "\n",
       "    .dataframe thead th {\n",
       "        text-align: right;\n",
       "    }\n",
       "</style>\n",
       "<table border=\"1\" class=\"dataframe\">\n",
       "  <thead>\n",
       "    <tr style=\"text-align: right;\">\n",
       "      <th></th>\n",
       "      <th>Column</th>\n",
       "      <th>dType</th>\n",
       "      <th>No_Null_%</th>\n",
       "      <th>No_Null_Qty</th>\n",
       "      <th>Null_%</th>\n",
       "      <th>Null_Qty</th>\n",
       "    </tr>\n",
       "  </thead>\n",
       "  <tbody>\n",
       "    <tr>\n",
       "      <th>0</th>\n",
       "      <td>genres</td>\n",
       "      <td>[&lt;class 'str'&gt;]</td>\n",
       "      <td>100.0</td>\n",
       "      <td>189</td>\n",
       "      <td>0.0</td>\n",
       "      <td>0</td>\n",
       "    </tr>\n",
       "    <tr>\n",
       "      <th>1</th>\n",
       "      <td>user</td>\n",
       "      <td>[&lt;class 'str'&gt;]</td>\n",
       "      <td>100.0</td>\n",
       "      <td>189</td>\n",
       "      <td>0.0</td>\n",
       "      <td>0</td>\n",
       "    </tr>\n",
       "    <tr>\n",
       "      <th>2</th>\n",
       "      <td>year</td>\n",
       "      <td>[&lt;class 'int'&gt;]</td>\n",
       "      <td>100.0</td>\n",
       "      <td>189</td>\n",
       "      <td>0.0</td>\n",
       "      <td>0</td>\n",
       "    </tr>\n",
       "    <tr>\n",
       "      <th>3</th>\n",
       "      <td>playtime_forever</td>\n",
       "      <td>[&lt;class 'int'&gt;]</td>\n",
       "      <td>100.0</td>\n",
       "      <td>189</td>\n",
       "      <td>0.0</td>\n",
       "      <td>0</td>\n",
       "    </tr>\n",
       "  </tbody>\n",
       "</table>\n",
       "</div>"
      ],
      "text/plain": [
       "             Column            dType  No_Null_%  No_Null_Qty  Null_%  Null_Qty\n",
       "0            genres  [<class 'str'>]      100.0          189     0.0         0\n",
       "1              user  [<class 'str'>]      100.0          189     0.0         0\n",
       "2              year  [<class 'int'>]      100.0          189     0.0         0\n",
       "3  playtime_forever  [<class 'int'>]      100.0          189     0.0         0"
      ]
     },
     "execution_count": 37,
     "metadata": {},
     "output_type": "execute_result"
    }
   ],
   "source": [
    "ut.data_overview(user_for_genre_df)"
   ]
  },
  {
   "cell_type": "code",
   "execution_count": 38,
   "metadata": {},
   "outputs": [
    {
     "data": {
      "text/plain": [
       "5311               action\n",
       "8419               action\n",
       "11800              action\n",
       "16247              action\n",
       "6400               action\n",
       "               ...       \n",
       "86713            strategy\n",
       "86766            strategy\n",
       "87520           utilities\n",
       "87519           utilities\n",
       "87522    video production\n",
       "Name: genres, Length: 189, dtype: object"
      ]
     },
     "execution_count": 38,
     "metadata": {},
     "output_type": "execute_result"
    }
   ],
   "source": [
    "user_for_genre_df['genres']"
   ]
  },
  {
   "cell_type": "code",
   "execution_count": 39,
   "metadata": {},
   "outputs": [
    {
     "data": {
      "text/plain": [
       "genres                         action\n",
       "user                76561198041356854\n",
       "year                             1990\n",
       "playtime_forever                 1424\n",
       "Name: 5311, dtype: object"
      ]
     },
     "execution_count": 39,
     "metadata": {},
     "output_type": "execute_result"
    }
   ],
   "source": [
    "user_for_genre_df.iloc[0]"
   ]
  },
  {
   "cell_type": "code",
   "execution_count": 40,
   "metadata": {},
   "outputs": [],
   "source": [
    "path = r'../simplified-data/'\n",
    "user_for_genre_df.to_csv(path + 'user_for_genre.csv', index=False)"
   ]
  },
  {
   "cell_type": "markdown",
   "metadata": {},
   "source": [
    "#### best_developer_year (New)"
   ]
  },
  {
   "cell_type": "markdown",
   "metadata": {},
   "source": [
    "def best_developer_year( año : int ): Devuelve el top 3 de desarrolladores con juegos MÁS recomendados por usuarios para el año dado. (reviews.recommend = True y comentarios positivos)"
   ]
  },
  {
   "cell_type": "code",
   "execution_count": 52,
   "metadata": {},
   "outputs": [],
   "source": [
    "# Filtrar revisiones recomendadas con análisis de sentimientos igual a 2\n",
    "recommended_reviews_df = reviews_df[(reviews_df['recommend'] == True) & (reviews_df['sentiment_analysis'] == 2)]\n",
    "\n",
    "# Unir dataframes usando la columna 'item_id'\n",
    "merged_df_recommended = pd.merge(recommended_reviews_df, items_df, on='item_id')\n",
    "\n",
    "# Agregar la columna 'developer' de steam_games_df\n",
    "merged_df_recommended = pd.merge(merged_df_recommended, steam_games_df[['id', 'developer']], left_on='item_id', right_on='id', how='left')\n",
    "\n",
    "# Convertir la columna 'posted' a datetime y extraer el año\n",
    "merged_df_recommended['posted'] = pd.to_datetime(merged_df_recommended['posted'], errors='coerce')\n",
    "merged_df_recommended['year'] = merged_df_recommended['posted'].dt.year.where(merged_df_recommended['posted'].notnull(), 'Year not specified')\n",
    "\n",
    "# Asegurarse de que el año sea un entero\n",
    "merged_df_recommended['year'] = merged_df_recommended['year'].astype('Int64')\n",
    "\n",
    "# Obtener las tres principales desarrolladoras con más juegos recomendados por año\n",
    "top3_most_recommended_by_year = merged_df_recommended.groupby(['year', 'developer', 'item_id']).size().groupby(['year', 'developer'], group_keys=False).nlargest(3).reset_index(name='most_recommended_count')\n"
   ]
  },
  {
   "cell_type": "code",
   "execution_count": 53,
   "metadata": {},
   "outputs": [
    {
     "name": "stdout",
     "output_type": "stream",
     "text": [
      "\n",
      "Total rows:  221\n",
      "\n",
      "Total full null rows:  0\n",
      "\n",
      "Total duplicated rows: 0\n"
     ]
    },
    {
     "data": {
      "text/html": [
       "<div>\n",
       "<style scoped>\n",
       "    .dataframe tbody tr th:only-of-type {\n",
       "        vertical-align: middle;\n",
       "    }\n",
       "\n",
       "    .dataframe tbody tr th {\n",
       "        vertical-align: top;\n",
       "    }\n",
       "\n",
       "    .dataframe thead th {\n",
       "        text-align: right;\n",
       "    }\n",
       "</style>\n",
       "<table border=\"1\" class=\"dataframe\">\n",
       "  <thead>\n",
       "    <tr style=\"text-align: right;\">\n",
       "      <th></th>\n",
       "      <th>Column</th>\n",
       "      <th>dType</th>\n",
       "      <th>No_Null_%</th>\n",
       "      <th>No_Null_Qty</th>\n",
       "      <th>Null_%</th>\n",
       "      <th>Null_Qty</th>\n",
       "    </tr>\n",
       "  </thead>\n",
       "  <tbody>\n",
       "    <tr>\n",
       "      <th>0</th>\n",
       "      <td>year</td>\n",
       "      <td>[&lt;class 'int'&gt;]</td>\n",
       "      <td>100.0</td>\n",
       "      <td>221</td>\n",
       "      <td>0.0</td>\n",
       "      <td>0</td>\n",
       "    </tr>\n",
       "    <tr>\n",
       "      <th>1</th>\n",
       "      <td>developer</td>\n",
       "      <td>[&lt;class 'str'&gt;]</td>\n",
       "      <td>100.0</td>\n",
       "      <td>221</td>\n",
       "      <td>0.0</td>\n",
       "      <td>0</td>\n",
       "    </tr>\n",
       "    <tr>\n",
       "      <th>2</th>\n",
       "      <td>item_id</td>\n",
       "      <td>[&lt;class 'str'&gt;]</td>\n",
       "      <td>100.0</td>\n",
       "      <td>221</td>\n",
       "      <td>0.0</td>\n",
       "      <td>0</td>\n",
       "    </tr>\n",
       "    <tr>\n",
       "      <th>3</th>\n",
       "      <td>least_recommended_count</td>\n",
       "      <td>[&lt;class 'int'&gt;]</td>\n",
       "      <td>100.0</td>\n",
       "      <td>221</td>\n",
       "      <td>0.0</td>\n",
       "      <td>0</td>\n",
       "    </tr>\n",
       "  </tbody>\n",
       "</table>\n",
       "</div>"
      ],
      "text/plain": [
       "                    Column            dType  No_Null_%  No_Null_Qty  Null_%  \\\n",
       "0                     year  [<class 'int'>]      100.0          221     0.0   \n",
       "1                developer  [<class 'str'>]      100.0          221     0.0   \n",
       "2                  item_id  [<class 'str'>]      100.0          221     0.0   \n",
       "3  least_recommended_count  [<class 'int'>]      100.0          221     0.0   \n",
       "\n",
       "   Null_Qty  \n",
       "0         0  \n",
       "1         0  \n",
       "2         0  \n",
       "3         0  "
      ]
     },
     "execution_count": 53,
     "metadata": {},
     "output_type": "execute_result"
    }
   ],
   "source": [
    "ut.data_overview(top3_most_recommended_by_year)"
   ]
  },
  {
   "cell_type": "code",
   "execution_count": 54,
   "metadata": {},
   "outputs": [
    {
     "data": {
      "text/html": [
       "<div>\n",
       "<style scoped>\n",
       "    .dataframe tbody tr th:only-of-type {\n",
       "        vertical-align: middle;\n",
       "    }\n",
       "\n",
       "    .dataframe tbody tr th {\n",
       "        vertical-align: top;\n",
       "    }\n",
       "\n",
       "    .dataframe thead th {\n",
       "        text-align: right;\n",
       "    }\n",
       "</style>\n",
       "<table border=\"1\" class=\"dataframe\">\n",
       "  <thead>\n",
       "    <tr style=\"text-align: right;\">\n",
       "      <th></th>\n",
       "      <th>year</th>\n",
       "      <th>developer</th>\n",
       "      <th>item_id</th>\n",
       "      <th>least_recommended_count</th>\n",
       "    </tr>\n",
       "  </thead>\n",
       "  <tbody>\n",
       "    <tr>\n",
       "      <th>0</th>\n",
       "      <td>2011</td>\n",
       "      <td>ubisoft montpellier</td>\n",
       "      <td>33460</td>\n",
       "      <td>3</td>\n",
       "    </tr>\n",
       "    <tr>\n",
       "      <th>1</th>\n",
       "      <td>2013</td>\n",
       "      <td>avalanche studios</td>\n",
       "      <td>8190</td>\n",
       "      <td>151</td>\n",
       "    </tr>\n",
       "    <tr>\n",
       "      <th>2</th>\n",
       "      <td>2013</td>\n",
       "      <td>bohemia interactive</td>\n",
       "      <td>221100</td>\n",
       "      <td>16</td>\n",
       "    </tr>\n",
       "    <tr>\n",
       "      <th>3</th>\n",
       "      <td>2013</td>\n",
       "      <td>chucklefish</td>\n",
       "      <td>211820</td>\n",
       "      <td>11</td>\n",
       "    </tr>\n",
       "    <tr>\n",
       "      <th>4</th>\n",
       "      <td>2013</td>\n",
       "      <td>creative assembly</td>\n",
       "      <td>214950</td>\n",
       "      <td>18</td>\n",
       "    </tr>\n",
       "    <tr>\n",
       "      <th>...</th>\n",
       "      <td>...</td>\n",
       "      <td>...</td>\n",
       "      <td>...</td>\n",
       "      <td>...</td>\n",
       "    </tr>\n",
       "    <tr>\n",
       "      <th>216</th>\n",
       "      <td>2015</td>\n",
       "      <td>valve</td>\n",
       "      <td>620</td>\n",
       "      <td>438</td>\n",
       "    </tr>\n",
       "    <tr>\n",
       "      <th>217</th>\n",
       "      <td>2015</td>\n",
       "      <td>valve</td>\n",
       "      <td>20</td>\n",
       "      <td>756</td>\n",
       "    </tr>\n",
       "    <tr>\n",
       "      <th>218</th>\n",
       "      <td>2015</td>\n",
       "      <td>valve</td>\n",
       "      <td>730</td>\n",
       "      <td>17887</td>\n",
       "    </tr>\n",
       "    <tr>\n",
       "      <th>219</th>\n",
       "      <td>2015</td>\n",
       "      <td>wild shadow studios</td>\n",
       "      <td>200210</td>\n",
       "      <td>213</td>\n",
       "    </tr>\n",
       "    <tr>\n",
       "      <th>220</th>\n",
       "      <td>2015</td>\n",
       "      <td>xlgames</td>\n",
       "      <td>304030</td>\n",
       "      <td>1</td>\n",
       "    </tr>\n",
       "  </tbody>\n",
       "</table>\n",
       "<p>221 rows × 4 columns</p>\n",
       "</div>"
      ],
      "text/plain": [
       "     year            developer item_id  least_recommended_count\n",
       "0    2011  ubisoft montpellier   33460                        3\n",
       "1    2013    avalanche studios    8190                      151\n",
       "2    2013  bohemia interactive  221100                       16\n",
       "3    2013          chucklefish  211820                       11\n",
       "4    2013    creative assembly  214950                       18\n",
       "..    ...                  ...     ...                      ...\n",
       "216  2015                valve     620                      438\n",
       "217  2015                valve      20                      756\n",
       "218  2015                valve     730                    17887\n",
       "219  2015  wild shadow studios  200210                      213\n",
       "220  2015              xlgames  304030                        1\n",
       "\n",
       "[221 rows x 4 columns]"
      ]
     },
     "execution_count": 54,
     "metadata": {},
     "output_type": "execute_result"
    }
   ],
   "source": [
    "top3_most_recommended_by_year"
   ]
  },
  {
   "cell_type": "code",
   "execution_count": null,
   "metadata": {},
   "outputs": [],
   "source": [
    "path = r'../simplified-data/'\n",
    "top3_most_recommended_by_year.to_csv(path + 'best_developer_year.csv', index=False)"
   ]
  },
  {
   "cell_type": "markdown",
   "metadata": {},
   "source": [
    "#### developer_reviews_analysis"
   ]
  },
  {
   "cell_type": "code",
   "execution_count": 55,
   "metadata": {},
   "outputs": [],
   "source": [
    "# Combinar DataFrames\n",
    "merged_df = pd.merge(steam_games_df, reviews_df, left_on='id', right_on='item_id')\n",
    "\n",
    "# Crear columnas para cada categoría de sentimiento\n",
    "sentiment_columns = ['Negative', 'Neutral', 'Positive']\n",
    "for sentiment in sentiment_columns:\n",
    "    merged_df[sentiment] = (merged_df['sentiment_analysis'] == sentiment_columns.index(sentiment)).astype(int)\n",
    "\n",
    "# Agrupar por desarrollador y sumar los conteos\n",
    "sentiment_analysis_df = merged_df.groupby('developer')[sentiment_columns].sum().reset_index()"
   ]
  },
  {
   "cell_type": "code",
   "execution_count": 56,
   "metadata": {},
   "outputs": [
    {
     "name": "stdout",
     "output_type": "stream",
     "text": [
      "\n",
      "Total rows:  1172\n",
      "\n",
      "Total full null rows:  0\n",
      "\n",
      "Total duplicated rows: 0\n"
     ]
    },
    {
     "data": {
      "text/html": [
       "<div>\n",
       "<style scoped>\n",
       "    .dataframe tbody tr th:only-of-type {\n",
       "        vertical-align: middle;\n",
       "    }\n",
       "\n",
       "    .dataframe tbody tr th {\n",
       "        vertical-align: top;\n",
       "    }\n",
       "\n",
       "    .dataframe thead th {\n",
       "        text-align: right;\n",
       "    }\n",
       "</style>\n",
       "<table border=\"1\" class=\"dataframe\">\n",
       "  <thead>\n",
       "    <tr style=\"text-align: right;\">\n",
       "      <th></th>\n",
       "      <th>Column</th>\n",
       "      <th>dType</th>\n",
       "      <th>No_Null_%</th>\n",
       "      <th>No_Null_Qty</th>\n",
       "      <th>Null_%</th>\n",
       "      <th>Null_Qty</th>\n",
       "    </tr>\n",
       "  </thead>\n",
       "  <tbody>\n",
       "    <tr>\n",
       "      <th>0</th>\n",
       "      <td>developer</td>\n",
       "      <td>[&lt;class 'str'&gt;]</td>\n",
       "      <td>100.0</td>\n",
       "      <td>1172</td>\n",
       "      <td>0.0</td>\n",
       "      <td>0</td>\n",
       "    </tr>\n",
       "    <tr>\n",
       "      <th>1</th>\n",
       "      <td>Negative</td>\n",
       "      <td>[&lt;class 'int'&gt;]</td>\n",
       "      <td>100.0</td>\n",
       "      <td>1172</td>\n",
       "      <td>0.0</td>\n",
       "      <td>0</td>\n",
       "    </tr>\n",
       "    <tr>\n",
       "      <th>2</th>\n",
       "      <td>Neutral</td>\n",
       "      <td>[&lt;class 'int'&gt;]</td>\n",
       "      <td>100.0</td>\n",
       "      <td>1172</td>\n",
       "      <td>0.0</td>\n",
       "      <td>0</td>\n",
       "    </tr>\n",
       "    <tr>\n",
       "      <th>3</th>\n",
       "      <td>Positive</td>\n",
       "      <td>[&lt;class 'int'&gt;]</td>\n",
       "      <td>100.0</td>\n",
       "      <td>1172</td>\n",
       "      <td>0.0</td>\n",
       "      <td>0</td>\n",
       "    </tr>\n",
       "  </tbody>\n",
       "</table>\n",
       "</div>"
      ],
      "text/plain": [
       "      Column            dType  No_Null_%  No_Null_Qty  Null_%  Null_Qty\n",
       "0  developer  [<class 'str'>]      100.0         1172     0.0         0\n",
       "1   Negative  [<class 'int'>]      100.0         1172     0.0         0\n",
       "2    Neutral  [<class 'int'>]      100.0         1172     0.0         0\n",
       "3   Positive  [<class 'int'>]      100.0         1172     0.0         0"
      ]
     },
     "execution_count": 56,
     "metadata": {},
     "output_type": "execute_result"
    }
   ],
   "source": [
    "ut.data_overview(sentiment_analysis_df)"
   ]
  },
  {
   "cell_type": "code",
   "execution_count": 57,
   "metadata": {},
   "outputs": [],
   "source": [
    "path = r'../simplified-data/'\n",
    "sentiment_analysis_df.to_csv(path + 'sentiment_analysis.csv', index=False)"
   ]
  },
  {
   "cell_type": "markdown",
   "metadata": {},
   "source": [
    "#### recomendacion_juego"
   ]
  },
  {
   "cell_type": "code",
   "execution_count": 58,
   "metadata": {},
   "outputs": [],
   "source": [
    "desired_columns = [\"genres\", \"tags\", \"specs\",\"id\",\"app_name\"]\n",
    "game_recomendation_df = steam_games_df[desired_columns].copy()"
   ]
  },
  {
   "cell_type": "code",
   "execution_count": 59,
   "metadata": {},
   "outputs": [],
   "source": [
    "path = r'../simplified-data/'\n",
    "game_recomendation_df.to_csv(path + 'game_recomendation.csv', index=False)"
   ]
  }
 ],
 "metadata": {
  "kernelspec": {
   "display_name": "Python 3",
   "language": "python",
   "name": "python3"
  },
  "language_info": {
   "codemirror_mode": {
    "name": "ipython",
    "version": 3
   },
   "file_extension": ".py",
   "mimetype": "text/x-python",
   "name": "python",
   "nbconvert_exporter": "python",
   "pygments_lexer": "ipython3",
   "version": "3.10.12"
  }
 },
 "nbformat": 4,
 "nbformat_minor": 2
}
