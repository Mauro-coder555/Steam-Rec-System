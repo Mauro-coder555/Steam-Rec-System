{
 "cells": [
  {
   "cell_type": "code",
   "execution_count": 2,
   "metadata": {},
   "outputs": [],
   "source": [
    "import pandas as pd\n",
    "import seaborn as sns\n",
    "import matplotlib.pyplot as plt\n",
    "from wordcloud import WordCloud\n",
    "from datetime import datetime\n",
    "from PIL import features\n",
    "import numpy as np\n",
    "\n",
    "import sys\n",
    "import os\n",
    "\n",
    "\n",
    "current_dir = os.getcwd()\n",
    "sys.path.append(os.path.join(current_dir, '..'))\n",
    "\n",
    "import ETL.utils as ut"
   ]
  },
  {
   "cell_type": "code",
   "execution_count": 3,
   "metadata": {},
   "outputs": [],
   "source": [
    "# Load datasets\n",
    "\n",
    "steam_games_df = pd.read_csv('../data/generated/steam_games.csv',dtype={'id': str})\n",
    "items_df = pd.read_csv('../data/generated/items.csv', dtype={'item_id': str})\n",
    "reviews_df = pd.read_csv('../data/generated/reviews_sentiment.csv', dtype={'item_id': str})\n"
   ]
  },
  {
   "cell_type": "code",
   "execution_count": 4,
   "metadata": {},
   "outputs": [],
   "source": [
    "columnas_object = steam_games_df.select_dtypes(include=['object']).columns\n",
    "steam_games_df[columnas_object] = steam_games_df[columnas_object].astype(str)\n",
    "\n",
    "columnas_object = items_df.select_dtypes(include=['object']).columns\n",
    "items_df[columnas_object] = items_df[columnas_object].astype(str)\n",
    "\n",
    "columnas_object = reviews_df.select_dtypes(include=['object']).columns\n",
    "reviews_df[columnas_object] = reviews_df[columnas_object].astype(str)"
   ]
  },
  {
   "cell_type": "markdown",
   "metadata": {},
   "source": [
    "### Creation of specific dataframes for the queries.\""
   ]
  },
  {
   "cell_type": "markdown",
   "metadata": {},
   "source": [
    "#### developer"
   ]
  },
  {
   "cell_type": "code",
   "execution_count": 26,
   "metadata": {},
   "outputs": [],
   "source": [
    "# Merge dataframes using \"id\" and \"item_id\" as keys\n",
    "merged_df = pd.merge(steam_games_df, items_df, left_on='id', right_on='item_id', how='inner')\n",
    "\n",
    "# Filter free games\n",
    "free_games_df = merged_df[merged_df['price'] == 0]\n",
    "\n",
    "# Group by developer and calculate item quantity and free content percentage\n",
    "developer_df = free_games_df.groupby('developer').agg({\n",
    "    'release_date': 'first',  # Assuming 'release_date' is the column for the release year\n",
    "    'item_id': 'count',        # Item quantity\n",
    "    'price': lambda x: f\"{(sum(x == 0) / len(x)) * 100:.0f}%\"  # Calculate and format the percentage\n",
    "}).reset_index()\n",
    "\n",
    "# Rename columns\n",
    "developer_df.columns = ['developer', 'year', 'items_quantity', 'free_content_percentage']\n"
   ]
  },
  {
   "cell_type": "code",
   "execution_count": 27,
   "metadata": {},
   "outputs": [],
   "source": [
    "path = r'../simplified-data/'\n",
    "developer_df.to_csv(path + 'developer_df.csv', index=False)"
   ]
  },
  {
   "cell_type": "markdown",
   "metadata": {},
   "source": [
    "#### userdata (New)"
   ]
  },
  {
   "cell_type": "markdown",
   "metadata": {},
   "source": [
    "def userdata( User_id : str ): Debe devolver cantidad de dinero gastado por el usuario, el porcentaje de recomendación en base a reviews.recommend y cantidad de items."
   ]
  },
  {
   "cell_type": "code",
   "execution_count": 5,
   "metadata": {},
   "outputs": [],
   "source": [
    "# Merge the games and items dataframes\n",
    "merged_items_df = pd.merge(steam_games_df, items_df, left_on='id', right_on='item_id', how='inner')\n",
    "\n",
    "# Merge the merged_items_df with the reviews dataframe\n",
    "final_df = pd.merge(merged_items_df, reviews_df, on='item_id', how='inner')\n",
    "\n",
    "# Group by user_id and calculate the sum of prices, number of unique items, and mean of recommendations\n",
    "userdata_df = final_df.groupby('user_id').agg({\n",
    "    'price': 'sum',\n",
    "    'item_id': 'count',\n",
    "    'recommend': lambda x: f\"{round(x.mean() * 100)}%\" if x.any() else 'no recommendation' \n",
    "}).reset_index()\n",
    "\n",
    "# Rename columns\n",
    "userdata_df.rename(columns={'price': 'spent_money', 'item_id': 'items_quantity', 'recommend': 'recommendation_percentage'}, inplace=True)"
   ]
  },
  {
   "cell_type": "code",
   "execution_count": 6,
   "metadata": {},
   "outputs": [],
   "source": [
    "path = r'../simplified-data/'\n",
    "userdata_df.to_csv(path + 'userdata_df.csv', index=False)"
   ]
  },
  {
   "cell_type": "markdown",
   "metadata": {},
   "source": [
    "#### UserFoGenre"
   ]
  },
  {
   "cell_type": "code",
   "execution_count": 7,
   "metadata": {},
   "outputs": [],
   "source": [
    "def parse_date(date_str):\n",
    "    try:\n",
    "        # Try to parse the date with the full format\n",
    "        return datetime.strptime(date_str, 'Posted %B %d, %Y.')\n",
    "    except ValueError:\n",
    "        try:\n",
    "            # Try parsing without the year\n",
    "            return datetime.strptime(date_str, 'Posted %B %d.').replace(year=datetime.now().year)\n",
    "        except ValueError:\n",
    "            # In case of error, return a date with day 1\n",
    "            return datetime(datetime.now().year, 1, 1)"
   ]
  },
  {
   "cell_type": "code",
   "execution_count": 8,
   "metadata": {},
   "outputs": [],
   "source": [
    "def process_genres(row):\n",
    "    if isinstance(row['genres'], list):\n",
    "        return row['genres']\n",
    "    elif isinstance(row['genres'], str):\n",
    "        return [genre.strip(\" '[]\") for genre in row['genres'].split(',')]\n",
    "    else:\n",
    "        return [row['genres']]"
   ]
  },
  {
   "cell_type": "code",
   "execution_count": 9,
   "metadata": {},
   "outputs": [],
   "source": [
    "# Step 1: Merge DataFrames based on the \"id\" and \"item_id\" keys\n",
    "merged_df = pd.merge(steam_games_df, items_df, left_on='id', right_on='item_id', how='inner')\n",
    "\n",
    "# Step 2: Explore genre lists and expand them into rows\n",
    "merged_df = merged_df.explode('genres')\n",
    "\n",
    "merged_df['release_date'] = merged_df['release_date'].apply(parse_date)\n",
    "\n",
    "# Step 3: Drop rows with null values in relevant columns\n",
    "merged_df = merged_df.dropna(subset=['playtime_forever', 'genres', 'user_id', 'release_date'])\n",
    "\n",
    "# Step 4: Filter rows with positive playtime\n",
    "merged_df = merged_df[merged_df['playtime_forever'] > 0]\n",
    "\n",
    "# Apply the function to each row\n",
    "merged_df['genres'] = merged_df.apply(process_genres, axis=1)\n",
    "\n",
    "# Apply the function to each row and create a new column 'processed_genres'\n",
    "merged_df['processed_genres'] = merged_df.apply(process_genres, axis=1)\n",
    "\n",
    "# Explode the 'processed_genres' column to create separate rows for each genre\n",
    "merged_df = merged_df.explode('processed_genres')\n",
    "\n",
    "# Step 5: Group by processed_genres, user, year, and calculate the sum of playtime\n",
    "user_for_genre_df = merged_df.groupby(['processed_genres', 'user_id', merged_df['release_date'].dt.year.astype(int)])['playtime_forever'].sum().reset_index()\n",
    "\n",
    "# Step 6: Find the user with the most playtime for each genre and year\n",
    "user_for_genre_df = user_for_genre_df.loc[user_for_genre_df.groupby(['processed_genres', 'release_date'])['playtime_forever'].idxmax()]\n",
    "\n",
    "# Rename columns as per your requirements\n",
    "user_for_genre_df.columns = ['genres', 'user', 'year', 'playtime_forever']\n",
    "user_for_genre_df[\"playtime_forever\"] = user_for_genre_df[\"playtime_forever\"].astype(int)"
   ]
  },
  {
   "cell_type": "code",
   "execution_count": 10,
   "metadata": {},
   "outputs": [
    {
     "name": "stdout",
     "output_type": "stream",
     "text": [
      "\n",
      "Total rows:  16\n",
      "\n",
      "Total full null rows:  0\n",
      "\n",
      "Total duplicated rows: 0\n"
     ]
    },
    {
     "data": {
      "text/html": [
       "<div>\n",
       "<style scoped>\n",
       "    .dataframe tbody tr th:only-of-type {\n",
       "        vertical-align: middle;\n",
       "    }\n",
       "\n",
       "    .dataframe tbody tr th {\n",
       "        vertical-align: top;\n",
       "    }\n",
       "\n",
       "    .dataframe thead th {\n",
       "        text-align: right;\n",
       "    }\n",
       "</style>\n",
       "<table border=\"1\" class=\"dataframe\">\n",
       "  <thead>\n",
       "    <tr style=\"text-align: right;\">\n",
       "      <th></th>\n",
       "      <th>Column</th>\n",
       "      <th>dType</th>\n",
       "      <th>No_Null_%</th>\n",
       "      <th>No_Null_Qty</th>\n",
       "      <th>Null_%</th>\n",
       "      <th>Null_Qty</th>\n",
       "    </tr>\n",
       "  </thead>\n",
       "  <tbody>\n",
       "    <tr>\n",
       "      <th>0</th>\n",
       "      <td>genres</td>\n",
       "      <td>[&lt;class 'str'&gt;]</td>\n",
       "      <td>100.0</td>\n",
       "      <td>16</td>\n",
       "      <td>0.0</td>\n",
       "      <td>0</td>\n",
       "    </tr>\n",
       "    <tr>\n",
       "      <th>1</th>\n",
       "      <td>user</td>\n",
       "      <td>[&lt;class 'str'&gt;]</td>\n",
       "      <td>100.0</td>\n",
       "      <td>16</td>\n",
       "      <td>0.0</td>\n",
       "      <td>0</td>\n",
       "    </tr>\n",
       "    <tr>\n",
       "      <th>2</th>\n",
       "      <td>year</td>\n",
       "      <td>[&lt;class 'int'&gt;]</td>\n",
       "      <td>100.0</td>\n",
       "      <td>16</td>\n",
       "      <td>0.0</td>\n",
       "      <td>0</td>\n",
       "    </tr>\n",
       "    <tr>\n",
       "      <th>3</th>\n",
       "      <td>playtime_forever</td>\n",
       "      <td>[&lt;class 'int'&gt;]</td>\n",
       "      <td>100.0</td>\n",
       "      <td>16</td>\n",
       "      <td>0.0</td>\n",
       "      <td>0</td>\n",
       "    </tr>\n",
       "  </tbody>\n",
       "</table>\n",
       "</div>"
      ],
      "text/plain": [
       "             Column            dType  No_Null_%  No_Null_Qty  Null_%  Null_Qty\n",
       "0            genres  [<class 'str'>]      100.0           16     0.0         0\n",
       "1              user  [<class 'str'>]      100.0           16     0.0         0\n",
       "2              year  [<class 'int'>]      100.0           16     0.0         0\n",
       "3  playtime_forever  [<class 'int'>]      100.0           16     0.0         0"
      ]
     },
     "execution_count": 10,
     "metadata": {},
     "output_type": "execute_result"
    }
   ],
   "source": [
    "ut.data_overview(user_for_genre_df)"
   ]
  },
  {
   "cell_type": "code",
   "execution_count": 11,
   "metadata": {},
   "outputs": [
    {
     "data": {
      "text/plain": [
       "26558                      action\n",
       "33135                   adventure\n",
       "36020    animation &amp; modeling\n",
       "36143                      casual\n",
       "37082                early access\n",
       "37264                free to play\n",
       "42026                       indie\n",
       "61220       massively multiplayer\n",
       "61864               not specified\n",
       "62025                      racing\n",
       "62714                         rpg\n",
       "68374                  simulation\n",
       "84858                      sports\n",
       "85976                    strategy\n",
       "87654                   utilities\n",
       "87656            video production\n",
       "Name: genres, dtype: object"
      ]
     },
     "execution_count": 11,
     "metadata": {},
     "output_type": "execute_result"
    }
   ],
   "source": [
    "user_for_genre_df['genres']"
   ]
  },
  {
   "cell_type": "code",
   "execution_count": 12,
   "metadata": {},
   "outputs": [
    {
     "data": {
      "text/plain": [
       "genres                       action\n",
       "user                crustyoldkiller\n",
       "year                           2024\n",
       "playtime_forever             388621\n",
       "Name: 26558, dtype: object"
      ]
     },
     "execution_count": 12,
     "metadata": {},
     "output_type": "execute_result"
    }
   ],
   "source": [
    "user_for_genre_df.iloc[0]"
   ]
  },
  {
   "cell_type": "code",
   "execution_count": 13,
   "metadata": {},
   "outputs": [],
   "source": [
    "path = r'../simplified-data/'\n",
    "user_for_genre_df.to_csv(path + 'user_for_genre.csv', index=False)"
   ]
  },
  {
   "cell_type": "markdown",
   "metadata": {},
   "source": [
    "#### best_developer_year (New)"
   ]
  },
  {
   "cell_type": "markdown",
   "metadata": {},
   "source": [
    "def best_developer_year( año : int ): Devuelve el top 3 de desarrolladores con juegos MÁS recomendados por usuarios para el año dado. (reviews.recommend = True y comentarios positivos)"
   ]
  },
  {
   "cell_type": "code",
   "execution_count": 14,
   "metadata": {},
   "outputs": [],
   "source": [
    "# Filtrar revisiones recomendadas con análisis de sentimientos igual a 2\n",
    "recommended_reviews_df = reviews_df[(reviews_df['recommend'] == True) & (reviews_df['sentiment_analysis'] == 2)]\n",
    "\n",
    "# Unir dataframes usando la columna 'item_id'\n",
    "merged_df_recommended = pd.merge(recommended_reviews_df, items_df, on='item_id')\n",
    "\n",
    "# Agregar la columna 'developer' de steam_games_df\n",
    "merged_df_recommended = pd.merge(merged_df_recommended, steam_games_df[['id', 'developer']], left_on='item_id', right_on='id', how='left')\n",
    "\n",
    "# Convertir la columna 'posted' a datetime y extraer el año\n",
    "merged_df_recommended['posted'] = pd.to_datetime(merged_df_recommended['posted'], errors='coerce')\n",
    "merged_df_recommended['year'] = merged_df_recommended['posted'].dt.year.where(merged_df_recommended['posted'].notnull(), 'Year not specified')\n",
    "\n",
    "# Asegurarse de que el año sea un entero\n",
    "merged_df_recommended['year'] = merged_df_recommended['year'].astype('Int64')\n",
    "\n",
    "# Obtener las tres principales desarrolladoras con más juegos recomendados por año\n",
    "top3_most_recommended_by_year = merged_df_recommended.groupby(['year', 'developer', 'item_id']).size().groupby(['year', 'developer'], group_keys=False).nlargest(3).reset_index(name='most_recommended_count')\n"
   ]
  },
  {
   "cell_type": "code",
   "execution_count": 15,
   "metadata": {},
   "outputs": [
    {
     "name": "stdout",
     "output_type": "stream",
     "text": [
      "\n",
      "Total rows:  976\n",
      "\n",
      "Total full null rows:  0\n",
      "\n",
      "Total duplicated rows: 0\n"
     ]
    },
    {
     "data": {
      "text/html": [
       "<div>\n",
       "<style scoped>\n",
       "    .dataframe tbody tr th:only-of-type {\n",
       "        vertical-align: middle;\n",
       "    }\n",
       "\n",
       "    .dataframe tbody tr th {\n",
       "        vertical-align: top;\n",
       "    }\n",
       "\n",
       "    .dataframe thead th {\n",
       "        text-align: right;\n",
       "    }\n",
       "</style>\n",
       "<table border=\"1\" class=\"dataframe\">\n",
       "  <thead>\n",
       "    <tr style=\"text-align: right;\">\n",
       "      <th></th>\n",
       "      <th>Column</th>\n",
       "      <th>dType</th>\n",
       "      <th>No_Null_%</th>\n",
       "      <th>No_Null_Qty</th>\n",
       "      <th>Null_%</th>\n",
       "      <th>Null_Qty</th>\n",
       "    </tr>\n",
       "  </thead>\n",
       "  <tbody>\n",
       "    <tr>\n",
       "      <th>0</th>\n",
       "      <td>year</td>\n",
       "      <td>[&lt;class 'int'&gt;]</td>\n",
       "      <td>100.0</td>\n",
       "      <td>976</td>\n",
       "      <td>0.0</td>\n",
       "      <td>0</td>\n",
       "    </tr>\n",
       "    <tr>\n",
       "      <th>1</th>\n",
       "      <td>developer</td>\n",
       "      <td>[&lt;class 'str'&gt;]</td>\n",
       "      <td>100.0</td>\n",
       "      <td>976</td>\n",
       "      <td>0.0</td>\n",
       "      <td>0</td>\n",
       "    </tr>\n",
       "    <tr>\n",
       "      <th>2</th>\n",
       "      <td>item_id</td>\n",
       "      <td>[&lt;class 'str'&gt;]</td>\n",
       "      <td>100.0</td>\n",
       "      <td>976</td>\n",
       "      <td>0.0</td>\n",
       "      <td>0</td>\n",
       "    </tr>\n",
       "    <tr>\n",
       "      <th>3</th>\n",
       "      <td>most_recommended_count</td>\n",
       "      <td>[&lt;class 'int'&gt;]</td>\n",
       "      <td>100.0</td>\n",
       "      <td>976</td>\n",
       "      <td>0.0</td>\n",
       "      <td>0</td>\n",
       "    </tr>\n",
       "  </tbody>\n",
       "</table>\n",
       "</div>"
      ],
      "text/plain": [
       "                   Column            dType  No_Null_%  No_Null_Qty  Null_%  \\\n",
       "0                    year  [<class 'int'>]      100.0          976     0.0   \n",
       "1               developer  [<class 'str'>]      100.0          976     0.0   \n",
       "2                 item_id  [<class 'str'>]      100.0          976     0.0   \n",
       "3  most_recommended_count  [<class 'int'>]      100.0          976     0.0   \n",
       "\n",
       "   Null_Qty  \n",
       "0         0  \n",
       "1         0  \n",
       "2         0  \n",
       "3         0  "
      ]
     },
     "execution_count": 15,
     "metadata": {},
     "output_type": "execute_result"
    }
   ],
   "source": [
    "ut.data_overview(top3_most_recommended_by_year)"
   ]
  },
  {
   "cell_type": "code",
   "execution_count": 16,
   "metadata": {},
   "outputs": [
    {
     "data": {
      "text/html": [
       "<div>\n",
       "<style scoped>\n",
       "    .dataframe tbody tr th:only-of-type {\n",
       "        vertical-align: middle;\n",
       "    }\n",
       "\n",
       "    .dataframe tbody tr th {\n",
       "        vertical-align: top;\n",
       "    }\n",
       "\n",
       "    .dataframe thead th {\n",
       "        text-align: right;\n",
       "    }\n",
       "</style>\n",
       "<table border=\"1\" class=\"dataframe\">\n",
       "  <thead>\n",
       "    <tr style=\"text-align: right;\">\n",
       "      <th></th>\n",
       "      <th>year</th>\n",
       "      <th>developer</th>\n",
       "      <th>item_id</th>\n",
       "      <th>most_recommended_count</th>\n",
       "    </tr>\n",
       "  </thead>\n",
       "  <tbody>\n",
       "    <tr>\n",
       "      <th>0</th>\n",
       "      <td>2010</td>\n",
       "      <td>bioware</td>\n",
       "      <td>17450</td>\n",
       "      <td>13</td>\n",
       "    </tr>\n",
       "    <tr>\n",
       "      <th>1</th>\n",
       "      <td>2010</td>\n",
       "      <td>obsidian entertainment</td>\n",
       "      <td>22380</td>\n",
       "      <td>66</td>\n",
       "    </tr>\n",
       "    <tr>\n",
       "      <th>2</th>\n",
       "      <td>2011</td>\n",
       "      <td>aspyr studios</td>\n",
       "      <td>32500</td>\n",
       "      <td>1</td>\n",
       "    </tr>\n",
       "    <tr>\n",
       "      <th>3</th>\n",
       "      <td>2011</td>\n",
       "      <td>avalanche studios</td>\n",
       "      <td>8190</td>\n",
       "      <td>151</td>\n",
       "    </tr>\n",
       "    <tr>\n",
       "      <th>4</th>\n",
       "      <td>2011</td>\n",
       "      <td>bethesda game studios</td>\n",
       "      <td>22370</td>\n",
       "      <td>45</td>\n",
       "    </tr>\n",
       "    <tr>\n",
       "      <th>...</th>\n",
       "      <td>...</td>\n",
       "      <td>...</td>\n",
       "      <td>...</td>\n",
       "      <td>...</td>\n",
       "    </tr>\n",
       "    <tr>\n",
       "      <th>971</th>\n",
       "      <td>2015</td>\n",
       "      <td>x-legend</td>\n",
       "      <td>268420</td>\n",
       "      <td>35</td>\n",
       "    </tr>\n",
       "    <tr>\n",
       "      <th>972</th>\n",
       "      <td>2015</td>\n",
       "      <td>xlgames</td>\n",
       "      <td>304030</td>\n",
       "      <td>3</td>\n",
       "    </tr>\n",
       "    <tr>\n",
       "      <th>973</th>\n",
       "      <td>2015</td>\n",
       "      <td>yager development</td>\n",
       "      <td>50300</td>\n",
       "      <td>36</td>\n",
       "    </tr>\n",
       "    <tr>\n",
       "      <th>974</th>\n",
       "      <td>2015</td>\n",
       "      <td>young horses</td>\n",
       "      <td>224480</td>\n",
       "      <td>3</td>\n",
       "    </tr>\n",
       "    <tr>\n",
       "      <th>975</th>\n",
       "      <td>2015</td>\n",
       "      <td>zero point software</td>\n",
       "      <td>236370</td>\n",
       "      <td>1</td>\n",
       "    </tr>\n",
       "  </tbody>\n",
       "</table>\n",
       "<p>976 rows × 4 columns</p>\n",
       "</div>"
      ],
      "text/plain": [
       "     year               developer item_id  most_recommended_count\n",
       "0    2010                 bioware   17450                      13\n",
       "1    2010  obsidian entertainment   22380                      66\n",
       "2    2011           aspyr studios   32500                       1\n",
       "3    2011       avalanche studios    8190                     151\n",
       "4    2011   bethesda game studios   22370                      45\n",
       "..    ...                     ...     ...                     ...\n",
       "971  2015                x-legend  268420                      35\n",
       "972  2015                 xlgames  304030                       3\n",
       "973  2015       yager development   50300                      36\n",
       "974  2015            young horses  224480                       3\n",
       "975  2015     zero point software  236370                       1\n",
       "\n",
       "[976 rows x 4 columns]"
      ]
     },
     "execution_count": 16,
     "metadata": {},
     "output_type": "execute_result"
    }
   ],
   "source": [
    "top3_most_recommended_by_year"
   ]
  },
  {
   "cell_type": "code",
   "execution_count": 17,
   "metadata": {},
   "outputs": [],
   "source": [
    "path = r'../simplified-data/'\n",
    "top3_most_recommended_by_year.to_csv(path + 'best_developer_year.csv', index=False)"
   ]
  },
  {
   "cell_type": "markdown",
   "metadata": {},
   "source": [
    "#### developer_reviews_analysis"
   ]
  },
  {
   "cell_type": "code",
   "execution_count": 18,
   "metadata": {},
   "outputs": [],
   "source": [
    "# Combinar DataFrames\n",
    "merged_df = pd.merge(steam_games_df, reviews_df, left_on='id', right_on='item_id')\n",
    "\n",
    "# Crear columnas para cada categoría de sentimiento\n",
    "sentiment_columns = ['Negative', 'Neutral', 'Positive']\n",
    "for sentiment in sentiment_columns:\n",
    "    merged_df[sentiment] = (merged_df['sentiment_analysis'] == sentiment_columns.index(sentiment)).astype(int)\n",
    "\n",
    "# Agrupar por desarrollador y sumar los conteos\n",
    "sentiment_analysis_df = merged_df.groupby('developer')[sentiment_columns].sum().reset_index()"
   ]
  },
  {
   "cell_type": "code",
   "execution_count": 19,
   "metadata": {},
   "outputs": [
    {
     "name": "stdout",
     "output_type": "stream",
     "text": [
      "\n",
      "Total rows:  1172\n",
      "\n",
      "Total full null rows:  0\n",
      "\n",
      "Total duplicated rows: 0\n"
     ]
    },
    {
     "data": {
      "text/html": [
       "<div>\n",
       "<style scoped>\n",
       "    .dataframe tbody tr th:only-of-type {\n",
       "        vertical-align: middle;\n",
       "    }\n",
       "\n",
       "    .dataframe tbody tr th {\n",
       "        vertical-align: top;\n",
       "    }\n",
       "\n",
       "    .dataframe thead th {\n",
       "        text-align: right;\n",
       "    }\n",
       "</style>\n",
       "<table border=\"1\" class=\"dataframe\">\n",
       "  <thead>\n",
       "    <tr style=\"text-align: right;\">\n",
       "      <th></th>\n",
       "      <th>Column</th>\n",
       "      <th>dType</th>\n",
       "      <th>No_Null_%</th>\n",
       "      <th>No_Null_Qty</th>\n",
       "      <th>Null_%</th>\n",
       "      <th>Null_Qty</th>\n",
       "    </tr>\n",
       "  </thead>\n",
       "  <tbody>\n",
       "    <tr>\n",
       "      <th>0</th>\n",
       "      <td>developer</td>\n",
       "      <td>[&lt;class 'str'&gt;]</td>\n",
       "      <td>100.0</td>\n",
       "      <td>1172</td>\n",
       "      <td>0.0</td>\n",
       "      <td>0</td>\n",
       "    </tr>\n",
       "    <tr>\n",
       "      <th>1</th>\n",
       "      <td>Negative</td>\n",
       "      <td>[&lt;class 'int'&gt;]</td>\n",
       "      <td>100.0</td>\n",
       "      <td>1172</td>\n",
       "      <td>0.0</td>\n",
       "      <td>0</td>\n",
       "    </tr>\n",
       "    <tr>\n",
       "      <th>2</th>\n",
       "      <td>Neutral</td>\n",
       "      <td>[&lt;class 'int'&gt;]</td>\n",
       "      <td>100.0</td>\n",
       "      <td>1172</td>\n",
       "      <td>0.0</td>\n",
       "      <td>0</td>\n",
       "    </tr>\n",
       "    <tr>\n",
       "      <th>3</th>\n",
       "      <td>Positive</td>\n",
       "      <td>[&lt;class 'int'&gt;]</td>\n",
       "      <td>100.0</td>\n",
       "      <td>1172</td>\n",
       "      <td>0.0</td>\n",
       "      <td>0</td>\n",
       "    </tr>\n",
       "  </tbody>\n",
       "</table>\n",
       "</div>"
      ],
      "text/plain": [
       "      Column            dType  No_Null_%  No_Null_Qty  Null_%  Null_Qty\n",
       "0  developer  [<class 'str'>]      100.0         1172     0.0         0\n",
       "1   Negative  [<class 'int'>]      100.0         1172     0.0         0\n",
       "2    Neutral  [<class 'int'>]      100.0         1172     0.0         0\n",
       "3   Positive  [<class 'int'>]      100.0         1172     0.0         0"
      ]
     },
     "execution_count": 19,
     "metadata": {},
     "output_type": "execute_result"
    }
   ],
   "source": [
    "ut.data_overview(sentiment_analysis_df)"
   ]
  },
  {
   "cell_type": "code",
   "execution_count": 20,
   "metadata": {},
   "outputs": [],
   "source": [
    "path = r'../simplified-data/'\n",
    "sentiment_analysis_df.to_csv(path + 'sentiment_analysis.csv', index=False)"
   ]
  },
  {
   "cell_type": "markdown",
   "metadata": {},
   "source": [
    "#### recomendacion_juego"
   ]
  },
  {
   "cell_type": "code",
   "execution_count": 21,
   "metadata": {},
   "outputs": [],
   "source": [
    "desired_columns = [\"genres\", \"tags\", \"specs\",\"id\",\"app_name\"]\n",
    "game_recomendation_df = steam_games_df[desired_columns].copy()"
   ]
  },
  {
   "cell_type": "code",
   "execution_count": 22,
   "metadata": {},
   "outputs": [],
   "source": [
    "path = r'../simplified-data/'\n",
    "game_recomendation_df.to_csv(path + 'game_recomendation.csv', index=False)"
   ]
  }
 ],
 "metadata": {
  "kernelspec": {
   "display_name": "Python 3",
   "language": "python",
   "name": "python3"
  },
  "language_info": {
   "codemirror_mode": {
    "name": "ipython",
    "version": 3
   },
   "file_extension": ".py",
   "mimetype": "text/x-python",
   "name": "python",
   "nbconvert_exporter": "python",
   "pygments_lexer": "ipython3",
   "version": "3.10.12"
  }
 },
 "nbformat": 4,
 "nbformat_minor": 2
}
