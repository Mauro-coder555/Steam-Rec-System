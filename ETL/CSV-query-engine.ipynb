{
 "cells": [
  {
   "cell_type": "code",
   "execution_count": 145,
   "metadata": {},
   "outputs": [],
   "source": [
    "import pandas as pd\n",
    "import seaborn as sns\n",
    "import matplotlib.pyplot as plt\n",
    "from wordcloud import WordCloud\n",
    "from datetime import datetime\n",
    "from PIL import features\n",
    "import numpy as np\n",
    "from ast import literal_eval\n",
    "\n",
    "import sys\n",
    "import os\n",
    "\n",
    "\n",
    "current_dir = os.getcwd()\n",
    "sys.path.append(os.path.join(current_dir, '..'))\n",
    "\n",
    "import ETL.utils as ut"
   ]
  },
  {
   "cell_type": "code",
   "execution_count": 7,
   "metadata": {},
   "outputs": [],
   "source": [
    "# Load datasets\n",
    "\n",
    "steam_games_df = pd.read_csv('../data/generated/steam_games.csv',dtype={'id': str})\n",
    "items_df = pd.read_csv('../data/generated/items.csv', dtype={'item_id': str})\n",
    "reviews_df = pd.read_csv('../data/generated/reviews_sentiment.csv', dtype={'item_id': str})\n"
   ]
  },
  {
   "cell_type": "code",
   "execution_count": 8,
   "metadata": {},
   "outputs": [],
   "source": [
    "columnas_object = steam_games_df.select_dtypes(include=['object']).columns\n",
    "steam_games_df[columnas_object] = steam_games_df[columnas_object].astype(str)\n",
    "\n",
    "columnas_object = items_df.select_dtypes(include=['object']).columns\n",
    "items_df[columnas_object] = items_df[columnas_object].astype(str)\n",
    "\n",
    "columnas_object = reviews_df.select_dtypes(include=['object']).columns\n",
    "reviews_df[columnas_object] = reviews_df[columnas_object].astype(str)"
   ]
  },
  {
   "cell_type": "markdown",
   "metadata": {},
   "source": [
    "### Creation of specific dataframes for the queries.\""
   ]
  },
  {
   "cell_type": "markdown",
   "metadata": {},
   "source": [
    "#### developer"
   ]
  },
  {
   "cell_type": "code",
   "execution_count": 24,
   "metadata": {},
   "outputs": [],
   "source": [
    "# Convert 'release_date' to datetime format, ignoring \"Not specified\" values\n",
    "steam_games_df['release_date'] = pd.to_datetime(steam_games_df['release_date'], errors='coerce')\n",
    "\n",
    "# Drop rows with NaT values (corresponding to \"Not specified\")\n",
    "steam_games_df = steam_games_df.dropna(subset=['release_date'])\n",
    "\n",
    "# Extract the year and create a new 'release_year' column\n",
    "steam_games_df['release_year'] = steam_games_df['release_date'].dt.year\n",
    "\n",
    "# Merge dataframes using \"id\" and \"item_id\" as keys\n",
    "merged_df = pd.merge(steam_games_df, items_df, left_on='id', right_on='item_id', how='inner')\n",
    "\n",
    "# Group by developer and calculate item quantity and free content percentage\n",
    "developer_df = merged_df.groupby(['developer', 'release_year']).agg({\n",
    "    'item_id': 'count',        # Item quantity\n",
    "    'price': lambda x: (x == 0).mean()  # Calculate the percentage of free content\n",
    "}).reset_index()\n",
    "\n",
    "# Rename columns\n",
    "developer_df.columns = ['developer', 'year', 'items_quantity', 'free_content_percentage']\n",
    "\n",
    "# Format the percentage as a string with the percentage symbol\n",
    "developer_df['free_content_percentage'] = developer_df['free_content_percentage'].map(lambda x: f\"{x:.2%}\")"
   ]
  },
  {
   "cell_type": "code",
   "execution_count": 25,
   "metadata": {},
   "outputs": [],
   "source": [
    "path = r'../simplified-data/'\n",
    "developer_df.to_csv(path + 'developer_df.csv', index=False)"
   ]
  },
  {
   "cell_type": "markdown",
   "metadata": {},
   "source": [
    "#### userdata (New)"
   ]
  },
  {
   "cell_type": "markdown",
   "metadata": {},
   "source": [
    "def userdata( User_id : str ): Debe devolver cantidad de dinero gastado por el usuario, el porcentaje de recomendación en base a reviews.recommend y cantidad de items."
   ]
  },
  {
   "cell_type": "code",
   "execution_count": 5,
   "metadata": {},
   "outputs": [
    {
     "ename": "",
     "evalue": "",
     "output_type": "error",
     "traceback": [
      "\u001b[1;31mThe Kernel crashed while executing code in the the current cell or a previous cell. Please review the code in the cell(s) to identify a possible cause of the failure. Click <a href='https://aka.ms/vscodeJupyterKernelCrash'>here</a> for more info. View Jupyter <a href='command:jupyter.viewOutput'>log</a> for further details."
     ]
    }
   ],
   "source": [
    "# Merge DataFrames\n",
    "merged_df = pd.merge(items_df, reviews_df, on='item_id')\n",
    "merged_df = pd.merge(merged_df, steam_games_df, left_on='item_id', right_on='id')\n",
    "\n",
    "# Add columns to the final DataFrame\n",
    "userdata_df = pd.merge(merged_df.groupby('user_id')['recommend'].mean().reset_index(), \n",
    "                    merged_df.groupby('user_id')['price'].sum().reset_index(),\n",
    "                    on='user_id')\n",
    "userdata_df.rename(columns={'price': 'spent_money', 'recommend': 'recommendation_percentage'}, inplace=True)\n",
    "\n",
    "# Add the column for the quantity of items per user\n",
    "userdata_df['items quantity'] = items_df.groupby('user_id')['item_id'].count().reset_index()['item_id']"
   ]
  },
  {
   "cell_type": "code",
   "execution_count": null,
   "metadata": {},
   "outputs": [],
   "source": [
    "path = r'../simplified-data/'\n",
    "userdata_df.to_csv(path + 'userdata_df.csv', index=False)"
   ]
  },
  {
   "cell_type": "markdown",
   "metadata": {},
   "source": [
    "#### UserFoGenre"
   ]
  },
  {
   "cell_type": "code",
   "execution_count": 148,
   "metadata": {},
   "outputs": [
    {
     "data": {
      "text/html": [
       "<div>\n",
       "<style scoped>\n",
       "    .dataframe tbody tr th:only-of-type {\n",
       "        vertical-align: middle;\n",
       "    }\n",
       "\n",
       "    .dataframe tbody tr th {\n",
       "        vertical-align: top;\n",
       "    }\n",
       "\n",
       "    .dataframe thead th {\n",
       "        text-align: right;\n",
       "    }\n",
       "</style>\n",
       "<table border=\"1\" class=\"dataframe\">\n",
       "  <thead>\n",
       "    <tr style=\"text-align: right;\">\n",
       "      <th></th>\n",
       "      <th>publisher</th>\n",
       "      <th>genre</th>\n",
       "      <th>app_name</th>\n",
       "      <th>title</th>\n",
       "      <th>url</th>\n",
       "      <th>release_date</th>\n",
       "      <th>tags</th>\n",
       "      <th>reviews_url</th>\n",
       "      <th>specs</th>\n",
       "      <th>price</th>\n",
       "      <th>early_access</th>\n",
       "      <th>id</th>\n",
       "      <th>developer</th>\n",
       "      <th>release_year</th>\n",
       "    </tr>\n",
       "  </thead>\n",
       "  <tbody>\n",
       "    <tr>\n",
       "      <th>0</th>\n",
       "      <td>Kotoshiro</td>\n",
       "      <td>Action</td>\n",
       "      <td>Lost Summoner Kitty</td>\n",
       "      <td>Lost Summoner Kitty</td>\n",
       "      <td>http://store.steampowered.com/app/761140/Lost_...</td>\n",
       "      <td>2018-01-04</td>\n",
       "      <td>['Strategy', 'Action', 'Indie', 'Casual', 'Sim...</td>\n",
       "      <td>http://steamcommunity.com/app/761140/reviews/?...</td>\n",
       "      <td>['Single-player']</td>\n",
       "      <td>4.99</td>\n",
       "      <td>False</td>\n",
       "      <td>761140</td>\n",
       "      <td>Kotoshiro</td>\n",
       "      <td>2018</td>\n",
       "    </tr>\n",
       "    <tr>\n",
       "      <th>1</th>\n",
       "      <td>Kotoshiro</td>\n",
       "      <td>Casual</td>\n",
       "      <td>Lost Summoner Kitty</td>\n",
       "      <td>Lost Summoner Kitty</td>\n",
       "      <td>http://store.steampowered.com/app/761140/Lost_...</td>\n",
       "      <td>2018-01-04</td>\n",
       "      <td>['Strategy', 'Action', 'Indie', 'Casual', 'Sim...</td>\n",
       "      <td>http://steamcommunity.com/app/761140/reviews/?...</td>\n",
       "      <td>['Single-player']</td>\n",
       "      <td>4.99</td>\n",
       "      <td>False</td>\n",
       "      <td>761140</td>\n",
       "      <td>Kotoshiro</td>\n",
       "      <td>2018</td>\n",
       "    </tr>\n",
       "    <tr>\n",
       "      <th>2</th>\n",
       "      <td>Kotoshiro</td>\n",
       "      <td>Indie</td>\n",
       "      <td>Lost Summoner Kitty</td>\n",
       "      <td>Lost Summoner Kitty</td>\n",
       "      <td>http://store.steampowered.com/app/761140/Lost_...</td>\n",
       "      <td>2018-01-04</td>\n",
       "      <td>['Strategy', 'Action', 'Indie', 'Casual', 'Sim...</td>\n",
       "      <td>http://steamcommunity.com/app/761140/reviews/?...</td>\n",
       "      <td>['Single-player']</td>\n",
       "      <td>4.99</td>\n",
       "      <td>False</td>\n",
       "      <td>761140</td>\n",
       "      <td>Kotoshiro</td>\n",
       "      <td>2018</td>\n",
       "    </tr>\n",
       "  </tbody>\n",
       "</table>\n",
       "</div>"
      ],
      "text/plain": [
       "   publisher   genre             app_name                title  \\\n",
       "0  Kotoshiro  Action  Lost Summoner Kitty  Lost Summoner Kitty   \n",
       "1  Kotoshiro  Casual  Lost Summoner Kitty  Lost Summoner Kitty   \n",
       "2  Kotoshiro   Indie  Lost Summoner Kitty  Lost Summoner Kitty   \n",
       "\n",
       "                                                 url release_date  \\\n",
       "0  http://store.steampowered.com/app/761140/Lost_...   2018-01-04   \n",
       "1  http://store.steampowered.com/app/761140/Lost_...   2018-01-04   \n",
       "2  http://store.steampowered.com/app/761140/Lost_...   2018-01-04   \n",
       "\n",
       "                                                tags  \\\n",
       "0  ['Strategy', 'Action', 'Indie', 'Casual', 'Sim...   \n",
       "1  ['Strategy', 'Action', 'Indie', 'Casual', 'Sim...   \n",
       "2  ['Strategy', 'Action', 'Indie', 'Casual', 'Sim...   \n",
       "\n",
       "                                         reviews_url              specs  \\\n",
       "0  http://steamcommunity.com/app/761140/reviews/?...  ['Single-player']   \n",
       "1  http://steamcommunity.com/app/761140/reviews/?...  ['Single-player']   \n",
       "2  http://steamcommunity.com/app/761140/reviews/?...  ['Single-player']   \n",
       "\n",
       "   price  early_access      id  developer  release_year  \n",
       "0   4.99         False  761140  Kotoshiro          2018  \n",
       "1   4.99         False  761140  Kotoshiro          2018  \n",
       "2   4.99         False  761140  Kotoshiro          2018  "
      ]
     },
     "execution_count": 148,
     "metadata": {},
     "output_type": "execute_result"
    }
   ],
   "source": [
    "# Expand the DataFrame for each genre\n",
    "expanded_df = steam_games_df.explode('genres')\n",
    "\n",
    "# Reset the indices if necessary\n",
    "expanded_df = expanded_df.reset_index(drop=True)\n",
    "\n",
    "expanded_df.rename(columns={'genres': 'genre'}, inplace=True)\n",
    "\n",
    "expanded_df.head(3)\n"
   ]
  },
  {
   "cell_type": "code",
   "execution_count": 156,
   "metadata": {},
   "outputs": [],
   "source": [
    "# Combine the DataFrames using the \"id\" column in steam_games_df and \"item_id\" in items_df\n",
    "merged_df = pd.merge(expanded_df, items_df, left_on='id', right_on='item_id')\n",
    "\n",
    "# Select the necessary columns for the new DataFrame\n",
    "selected_columns = ['user_id', 'genre', 'id', 'release_date', 'playtime_forever']\n",
    "\n",
    "# Create the final DataFrame with the selected columns\n",
    "user_for_genre_df = merged_df[selected_columns]\n",
    "\n"
   ]
  },
  {
   "cell_type": "code",
   "execution_count": 51,
   "metadata": {},
   "outputs": [
    {
     "name": "stdout",
     "output_type": "stream",
     "text": [
      "\n",
      "Total rows:  189\n",
      "\n",
      "Total full null rows:  0\n",
      "\n",
      "Total duplicated rows: 0\n"
     ]
    },
    {
     "data": {
      "text/html": [
       "<div>\n",
       "<style scoped>\n",
       "    .dataframe tbody tr th:only-of-type {\n",
       "        vertical-align: middle;\n",
       "    }\n",
       "\n",
       "    .dataframe tbody tr th {\n",
       "        vertical-align: top;\n",
       "    }\n",
       "\n",
       "    .dataframe thead th {\n",
       "        text-align: right;\n",
       "    }\n",
       "</style>\n",
       "<table border=\"1\" class=\"dataframe\">\n",
       "  <thead>\n",
       "    <tr style=\"text-align: right;\">\n",
       "      <th></th>\n",
       "      <th>Column</th>\n",
       "      <th>dType</th>\n",
       "      <th>No_Null_%</th>\n",
       "      <th>No_Null_Qty</th>\n",
       "      <th>Null_%</th>\n",
       "      <th>Null_Qty</th>\n",
       "    </tr>\n",
       "  </thead>\n",
       "  <tbody>\n",
       "    <tr>\n",
       "      <th>0</th>\n",
       "      <td>genres</td>\n",
       "      <td>[&lt;class 'str'&gt;]</td>\n",
       "      <td>100.0</td>\n",
       "      <td>189</td>\n",
       "      <td>0.0</td>\n",
       "      <td>0</td>\n",
       "    </tr>\n",
       "    <tr>\n",
       "      <th>1</th>\n",
       "      <td>user_id</td>\n",
       "      <td>[&lt;class 'str'&gt;]</td>\n",
       "      <td>100.0</td>\n",
       "      <td>189</td>\n",
       "      <td>0.0</td>\n",
       "      <td>0</td>\n",
       "    </tr>\n",
       "    <tr>\n",
       "      <th>2</th>\n",
       "      <td>release_date</td>\n",
       "      <td>[&lt;class 'int'&gt;]</td>\n",
       "      <td>100.0</td>\n",
       "      <td>189</td>\n",
       "      <td>0.0</td>\n",
       "      <td>0</td>\n",
       "    </tr>\n",
       "    <tr>\n",
       "      <th>3</th>\n",
       "      <td>playtime_forever</td>\n",
       "      <td>[&lt;class 'float'&gt;]</td>\n",
       "      <td>100.0</td>\n",
       "      <td>189</td>\n",
       "      <td>0.0</td>\n",
       "      <td>0</td>\n",
       "    </tr>\n",
       "  </tbody>\n",
       "</table>\n",
       "</div>"
      ],
      "text/plain": [
       "             Column              dType  No_Null_%  No_Null_Qty  Null_%  \\\n",
       "0            genres    [<class 'str'>]      100.0          189     0.0   \n",
       "1           user_id    [<class 'str'>]      100.0          189     0.0   \n",
       "2      release_date    [<class 'int'>]      100.0          189     0.0   \n",
       "3  playtime_forever  [<class 'float'>]      100.0          189     0.0   \n",
       "\n",
       "   Null_Qty  \n",
       "0         0  \n",
       "1         0  \n",
       "2         0  \n",
       "3         0  "
      ]
     },
     "execution_count": 51,
     "metadata": {},
     "output_type": "execute_result"
    }
   ],
   "source": [
    "ut.data_overview(user_for_genre_df)"
   ]
  },
  {
   "cell_type": "code",
   "execution_count": 44,
   "metadata": {},
   "outputs": [
    {
     "data": {
      "text/plain": [
       "5311               Action\n",
       "8419               Action\n",
       "11800              Action\n",
       "16247              Action\n",
       "6400               Action\n",
       "               ...       \n",
       "86713            Strategy\n",
       "86766            Strategy\n",
       "87520           Utilities\n",
       "87519           Utilities\n",
       "87522    Video Production\n",
       "Name: genres, Length: 189, dtype: object"
      ]
     },
     "execution_count": 44,
     "metadata": {},
     "output_type": "execute_result"
    }
   ],
   "source": [
    "user_for_genre_df['genres']"
   ]
  },
  {
   "cell_type": "code",
   "execution_count": 45,
   "metadata": {},
   "outputs": [
    {
     "data": {
      "text/plain": [
       "genres                         Action\n",
       "user_id             76561198041356854\n",
       "release_date                     1990\n",
       "playtime_forever               1424.0\n",
       "Name: 5311, dtype: object"
      ]
     },
     "execution_count": 45,
     "metadata": {},
     "output_type": "execute_result"
    }
   ],
   "source": [
    "user_for_genre_df.iloc[0]"
   ]
  },
  {
   "cell_type": "code",
   "execution_count": 157,
   "metadata": {},
   "outputs": [],
   "source": [
    "path = r'../simplified-data/'\n",
    "user_for_genre_df.to_csv(path + 'user_for_genre.csv', index=False)"
   ]
  },
  {
   "cell_type": "markdown",
   "metadata": {},
   "source": [
    "#### best_developer_year (New)"
   ]
  },
  {
   "cell_type": "markdown",
   "metadata": {},
   "source": [
    "def best_developer_year( año : int ): Devuelve el top 3 de desarrolladores con juegos MÁS recomendados por usuarios para el año dado. (reviews.recommend = True y comentarios positivos)"
   ]
  },
  {
   "cell_type": "code",
   "execution_count": 52,
   "metadata": {},
   "outputs": [],
   "source": [
    "# Filtrar revisiones recomendadas con análisis de sentimientos igual a 2\n",
    "recommended_reviews_df = reviews_df[(reviews_df['recommend'] == True) & (reviews_df['sentiment_analysis'] == 2)]\n",
    "\n",
    "# Unir dataframes usando la columna 'item_id'\n",
    "merged_df_recommended = pd.merge(recommended_reviews_df, items_df, on='item_id')\n",
    "\n",
    "# Agregar la columna 'developer' de steam_games_df\n",
    "merged_df_recommended = pd.merge(merged_df_recommended, steam_games_df[['id', 'developer']], left_on='item_id', right_on='id', how='left')\n",
    "\n",
    "# Convertir la columna 'posted' a datetime y extraer el año\n",
    "merged_df_recommended['posted'] = pd.to_datetime(merged_df_recommended['posted'], errors='coerce')\n",
    "merged_df_recommended['year'] = merged_df_recommended['posted'].dt.year.where(merged_df_recommended['posted'].notnull(), 'Year not specified')\n",
    "\n",
    "# Asegurarse de que el año sea un entero\n",
    "merged_df_recommended['year'] = merged_df_recommended['year'].astype('Int64')\n",
    "\n",
    "# Obtener las tres principales desarrolladoras con más juegos recomendados por año\n",
    "top3_most_recommended_by_year = merged_df_recommended.groupby(['year', 'developer', 'item_id']).size().groupby(['year', 'developer'], group_keys=False).nlargest(3).reset_index(name='most_recommended_count')\n"
   ]
  },
  {
   "cell_type": "code",
   "execution_count": 53,
   "metadata": {},
   "outputs": [
    {
     "name": "stdout",
     "output_type": "stream",
     "text": [
      "\n",
      "Total rows:  221\n",
      "\n",
      "Total full null rows:  0\n",
      "\n",
      "Total duplicated rows: 0\n"
     ]
    },
    {
     "data": {
      "text/html": [
       "<div>\n",
       "<style scoped>\n",
       "    .dataframe tbody tr th:only-of-type {\n",
       "        vertical-align: middle;\n",
       "    }\n",
       "\n",
       "    .dataframe tbody tr th {\n",
       "        vertical-align: top;\n",
       "    }\n",
       "\n",
       "    .dataframe thead th {\n",
       "        text-align: right;\n",
       "    }\n",
       "</style>\n",
       "<table border=\"1\" class=\"dataframe\">\n",
       "  <thead>\n",
       "    <tr style=\"text-align: right;\">\n",
       "      <th></th>\n",
       "      <th>Column</th>\n",
       "      <th>dType</th>\n",
       "      <th>No_Null_%</th>\n",
       "      <th>No_Null_Qty</th>\n",
       "      <th>Null_%</th>\n",
       "      <th>Null_Qty</th>\n",
       "    </tr>\n",
       "  </thead>\n",
       "  <tbody>\n",
       "    <tr>\n",
       "      <th>0</th>\n",
       "      <td>year</td>\n",
       "      <td>[&lt;class 'int'&gt;]</td>\n",
       "      <td>100.0</td>\n",
       "      <td>221</td>\n",
       "      <td>0.0</td>\n",
       "      <td>0</td>\n",
       "    </tr>\n",
       "    <tr>\n",
       "      <th>1</th>\n",
       "      <td>developer</td>\n",
       "      <td>[&lt;class 'str'&gt;]</td>\n",
       "      <td>100.0</td>\n",
       "      <td>221</td>\n",
       "      <td>0.0</td>\n",
       "      <td>0</td>\n",
       "    </tr>\n",
       "    <tr>\n",
       "      <th>2</th>\n",
       "      <td>item_id</td>\n",
       "      <td>[&lt;class 'str'&gt;]</td>\n",
       "      <td>100.0</td>\n",
       "      <td>221</td>\n",
       "      <td>0.0</td>\n",
       "      <td>0</td>\n",
       "    </tr>\n",
       "    <tr>\n",
       "      <th>3</th>\n",
       "      <td>least_recommended_count</td>\n",
       "      <td>[&lt;class 'int'&gt;]</td>\n",
       "      <td>100.0</td>\n",
       "      <td>221</td>\n",
       "      <td>0.0</td>\n",
       "      <td>0</td>\n",
       "    </tr>\n",
       "  </tbody>\n",
       "</table>\n",
       "</div>"
      ],
      "text/plain": [
       "                    Column            dType  No_Null_%  No_Null_Qty  Null_%  \\\n",
       "0                     year  [<class 'int'>]      100.0          221     0.0   \n",
       "1                developer  [<class 'str'>]      100.0          221     0.0   \n",
       "2                  item_id  [<class 'str'>]      100.0          221     0.0   \n",
       "3  least_recommended_count  [<class 'int'>]      100.0          221     0.0   \n",
       "\n",
       "   Null_Qty  \n",
       "0         0  \n",
       "1         0  \n",
       "2         0  \n",
       "3         0  "
      ]
     },
     "execution_count": 53,
     "metadata": {},
     "output_type": "execute_result"
    }
   ],
   "source": [
    "ut.data_overview(top3_most_recommended_by_year)"
   ]
  },
  {
   "cell_type": "code",
   "execution_count": 54,
   "metadata": {},
   "outputs": [
    {
     "data": {
      "text/html": [
       "<div>\n",
       "<style scoped>\n",
       "    .dataframe tbody tr th:only-of-type {\n",
       "        vertical-align: middle;\n",
       "    }\n",
       "\n",
       "    .dataframe tbody tr th {\n",
       "        vertical-align: top;\n",
       "    }\n",
       "\n",
       "    .dataframe thead th {\n",
       "        text-align: right;\n",
       "    }\n",
       "</style>\n",
       "<table border=\"1\" class=\"dataframe\">\n",
       "  <thead>\n",
       "    <tr style=\"text-align: right;\">\n",
       "      <th></th>\n",
       "      <th>year</th>\n",
       "      <th>developer</th>\n",
       "      <th>item_id</th>\n",
       "      <th>least_recommended_count</th>\n",
       "    </tr>\n",
       "  </thead>\n",
       "  <tbody>\n",
       "    <tr>\n",
       "      <th>0</th>\n",
       "      <td>2011</td>\n",
       "      <td>ubisoft montpellier</td>\n",
       "      <td>33460</td>\n",
       "      <td>3</td>\n",
       "    </tr>\n",
       "    <tr>\n",
       "      <th>1</th>\n",
       "      <td>2013</td>\n",
       "      <td>avalanche studios</td>\n",
       "      <td>8190</td>\n",
       "      <td>151</td>\n",
       "    </tr>\n",
       "    <tr>\n",
       "      <th>2</th>\n",
       "      <td>2013</td>\n",
       "      <td>bohemia interactive</td>\n",
       "      <td>221100</td>\n",
       "      <td>16</td>\n",
       "    </tr>\n",
       "    <tr>\n",
       "      <th>3</th>\n",
       "      <td>2013</td>\n",
       "      <td>chucklefish</td>\n",
       "      <td>211820</td>\n",
       "      <td>11</td>\n",
       "    </tr>\n",
       "    <tr>\n",
       "      <th>4</th>\n",
       "      <td>2013</td>\n",
       "      <td>creative assembly</td>\n",
       "      <td>214950</td>\n",
       "      <td>18</td>\n",
       "    </tr>\n",
       "    <tr>\n",
       "      <th>...</th>\n",
       "      <td>...</td>\n",
       "      <td>...</td>\n",
       "      <td>...</td>\n",
       "      <td>...</td>\n",
       "    </tr>\n",
       "    <tr>\n",
       "      <th>216</th>\n",
       "      <td>2015</td>\n",
       "      <td>valve</td>\n",
       "      <td>620</td>\n",
       "      <td>438</td>\n",
       "    </tr>\n",
       "    <tr>\n",
       "      <th>217</th>\n",
       "      <td>2015</td>\n",
       "      <td>valve</td>\n",
       "      <td>20</td>\n",
       "      <td>756</td>\n",
       "    </tr>\n",
       "    <tr>\n",
       "      <th>218</th>\n",
       "      <td>2015</td>\n",
       "      <td>valve</td>\n",
       "      <td>730</td>\n",
       "      <td>17887</td>\n",
       "    </tr>\n",
       "    <tr>\n",
       "      <th>219</th>\n",
       "      <td>2015</td>\n",
       "      <td>wild shadow studios</td>\n",
       "      <td>200210</td>\n",
       "      <td>213</td>\n",
       "    </tr>\n",
       "    <tr>\n",
       "      <th>220</th>\n",
       "      <td>2015</td>\n",
       "      <td>xlgames</td>\n",
       "      <td>304030</td>\n",
       "      <td>1</td>\n",
       "    </tr>\n",
       "  </tbody>\n",
       "</table>\n",
       "<p>221 rows × 4 columns</p>\n",
       "</div>"
      ],
      "text/plain": [
       "     year            developer item_id  least_recommended_count\n",
       "0    2011  ubisoft montpellier   33460                        3\n",
       "1    2013    avalanche studios    8190                      151\n",
       "2    2013  bohemia interactive  221100                       16\n",
       "3    2013          chucklefish  211820                       11\n",
       "4    2013    creative assembly  214950                       18\n",
       "..    ...                  ...     ...                      ...\n",
       "216  2015                valve     620                      438\n",
       "217  2015                valve      20                      756\n",
       "218  2015                valve     730                    17887\n",
       "219  2015  wild shadow studios  200210                      213\n",
       "220  2015              xlgames  304030                        1\n",
       "\n",
       "[221 rows x 4 columns]"
      ]
     },
     "execution_count": 54,
     "metadata": {},
     "output_type": "execute_result"
    }
   ],
   "source": [
    "top3_most_recommended_by_year"
   ]
  },
  {
   "cell_type": "code",
   "execution_count": null,
   "metadata": {},
   "outputs": [],
   "source": [
    "path = r'../simplified-data/'\n",
    "top3_most_recommended_by_year.to_csv(path + 'best_developer_year.csv', index=False)"
   ]
  },
  {
   "cell_type": "markdown",
   "metadata": {},
   "source": [
    "#### developer_reviews_analysis"
   ]
  },
  {
   "cell_type": "code",
   "execution_count": 55,
   "metadata": {},
   "outputs": [],
   "source": [
    "# Combinar DataFrames\n",
    "merged_df = pd.merge(steam_games_df, reviews_df, left_on='id', right_on='item_id')\n",
    "\n",
    "# Crear columnas para cada categoría de sentimiento\n",
    "sentiment_columns = ['Negative', 'Neutral', 'Positive']\n",
    "for sentiment in sentiment_columns:\n",
    "    merged_df[sentiment] = (merged_df['sentiment_analysis'] == sentiment_columns.index(sentiment)).astype(int)\n",
    "\n",
    "# Agrupar por desarrollador y sumar los conteos\n",
    "sentiment_analysis_df = merged_df.groupby('developer')[sentiment_columns].sum().reset_index()"
   ]
  },
  {
   "cell_type": "code",
   "execution_count": 56,
   "metadata": {},
   "outputs": [
    {
     "name": "stdout",
     "output_type": "stream",
     "text": [
      "\n",
      "Total rows:  1172\n",
      "\n",
      "Total full null rows:  0\n",
      "\n",
      "Total duplicated rows: 0\n"
     ]
    },
    {
     "data": {
      "text/html": [
       "<div>\n",
       "<style scoped>\n",
       "    .dataframe tbody tr th:only-of-type {\n",
       "        vertical-align: middle;\n",
       "    }\n",
       "\n",
       "    .dataframe tbody tr th {\n",
       "        vertical-align: top;\n",
       "    }\n",
       "\n",
       "    .dataframe thead th {\n",
       "        text-align: right;\n",
       "    }\n",
       "</style>\n",
       "<table border=\"1\" class=\"dataframe\">\n",
       "  <thead>\n",
       "    <tr style=\"text-align: right;\">\n",
       "      <th></th>\n",
       "      <th>Column</th>\n",
       "      <th>dType</th>\n",
       "      <th>No_Null_%</th>\n",
       "      <th>No_Null_Qty</th>\n",
       "      <th>Null_%</th>\n",
       "      <th>Null_Qty</th>\n",
       "    </tr>\n",
       "  </thead>\n",
       "  <tbody>\n",
       "    <tr>\n",
       "      <th>0</th>\n",
       "      <td>developer</td>\n",
       "      <td>[&lt;class 'str'&gt;]</td>\n",
       "      <td>100.0</td>\n",
       "      <td>1172</td>\n",
       "      <td>0.0</td>\n",
       "      <td>0</td>\n",
       "    </tr>\n",
       "    <tr>\n",
       "      <th>1</th>\n",
       "      <td>Negative</td>\n",
       "      <td>[&lt;class 'int'&gt;]</td>\n",
       "      <td>100.0</td>\n",
       "      <td>1172</td>\n",
       "      <td>0.0</td>\n",
       "      <td>0</td>\n",
       "    </tr>\n",
       "    <tr>\n",
       "      <th>2</th>\n",
       "      <td>Neutral</td>\n",
       "      <td>[&lt;class 'int'&gt;]</td>\n",
       "      <td>100.0</td>\n",
       "      <td>1172</td>\n",
       "      <td>0.0</td>\n",
       "      <td>0</td>\n",
       "    </tr>\n",
       "    <tr>\n",
       "      <th>3</th>\n",
       "      <td>Positive</td>\n",
       "      <td>[&lt;class 'int'&gt;]</td>\n",
       "      <td>100.0</td>\n",
       "      <td>1172</td>\n",
       "      <td>0.0</td>\n",
       "      <td>0</td>\n",
       "    </tr>\n",
       "  </tbody>\n",
       "</table>\n",
       "</div>"
      ],
      "text/plain": [
       "      Column            dType  No_Null_%  No_Null_Qty  Null_%  Null_Qty\n",
       "0  developer  [<class 'str'>]      100.0         1172     0.0         0\n",
       "1   Negative  [<class 'int'>]      100.0         1172     0.0         0\n",
       "2    Neutral  [<class 'int'>]      100.0         1172     0.0         0\n",
       "3   Positive  [<class 'int'>]      100.0         1172     0.0         0"
      ]
     },
     "execution_count": 56,
     "metadata": {},
     "output_type": "execute_result"
    }
   ],
   "source": [
    "ut.data_overview(sentiment_analysis_df)"
   ]
  },
  {
   "cell_type": "code",
   "execution_count": 57,
   "metadata": {},
   "outputs": [],
   "source": [
    "path = r'../simplified-data/'\n",
    "sentiment_analysis_df.to_csv(path + 'sentiment_analysis.csv', index=False)"
   ]
  },
  {
   "cell_type": "markdown",
   "metadata": {},
   "source": [
    "#### recomendacion_juego"
   ]
  },
  {
   "cell_type": "code",
   "execution_count": 58,
   "metadata": {},
   "outputs": [],
   "source": [
    "desired_columns = [\"genres\", \"tags\", \"specs\",\"id\",\"app_name\"]\n",
    "game_recomendation_df = steam_games_df[desired_columns].copy()"
   ]
  },
  {
   "cell_type": "code",
   "execution_count": 59,
   "metadata": {},
   "outputs": [],
   "source": [
    "path = r'../simplified-data/'\n",
    "game_recomendation_df.to_csv(path + 'game_recomendation.csv', index=False)"
   ]
  }
 ],
 "metadata": {
  "kernelspec": {
   "display_name": "Python 3",
   "language": "python",
   "name": "python3"
  },
  "language_info": {
   "codemirror_mode": {
    "name": "ipython",
    "version": 3
   },
   "file_extension": ".py",
   "mimetype": "text/x-python",
   "name": "python",
   "nbconvert_exporter": "python",
   "pygments_lexer": "ipython3",
   "version": "3.10.12"
  }
 },
 "nbformat": 4,
 "nbformat_minor": 2
}
