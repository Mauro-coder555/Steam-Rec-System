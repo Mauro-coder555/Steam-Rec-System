{
 "cells": [
  {
   "cell_type": "code",
   "execution_count": 42,
   "metadata": {},
   "outputs": [],
   "source": [
    "import pandas as pd\n",
    "import seaborn as sns\n",
    "import matplotlib.pyplot as plt\n",
    "from wordcloud import WordCloud\n",
    "from datetime import datetime\n",
    "from PIL import features\n",
    "import numpy as np\n",
    "\n",
    "import sys\n",
    "import os\n",
    "\n",
    "\n",
    "current_dir = os.getcwd()\n",
    "sys.path.append(os.path.join(current_dir, '..'))\n",
    "\n",
    "import ETL.utils as ut"
   ]
  },
  {
   "cell_type": "code",
   "execution_count": 46,
   "metadata": {},
   "outputs": [],
   "source": [
    "# Load datasets\n",
    "\n",
    "steam_games_df = pd.read_csv('../data/generated/steam_games.csv',dtype={'id': str})\n",
    "items_df = pd.read_csv('../data/generated/items.csv', dtype={'item_id': str})\n",
    "reviews_df = pd.read_csv('../data/generated/reviews_sentiment.csv', dtype={'item_id': str})\n"
   ]
  },
  {
   "cell_type": "code",
   "execution_count": 47,
   "metadata": {},
   "outputs": [],
   "source": [
    "columnas_object = steam_games_df.select_dtypes(include=['object']).columns\n",
    "steam_games_df[columnas_object] = steam_games_df[columnas_object].astype(str)\n",
    "\n",
    "columnas_object = items_df.select_dtypes(include=['object']).columns\n",
    "items_df[columnas_object] = items_df[columnas_object].astype(str)\n",
    "\n",
    "columnas_object = reviews_df.select_dtypes(include=['object']).columns\n",
    "reviews_df[columnas_object] = reviews_df[columnas_object].astype(str)"
   ]
  },
  {
   "cell_type": "markdown",
   "metadata": {},
   "source": [
    "### Creation of specific dataframes for the queries.\""
   ]
  },
  {
   "cell_type": "markdown",
   "metadata": {},
   "source": [
    "#### PlayTimeGenre"
   ]
  },
  {
   "cell_type": "code",
   "execution_count": null,
   "metadata": {},
   "outputs": [],
   "source": [
    "# Aux function\n",
    "def parse_date(date_str):\n",
    "    if date_str == 'Not specified':\n",
    "        return np.nan  # or any other placeholder value you prefer\n",
    "    try:\n",
    "        return datetime.datetime.strptime(date_str, '%Y-%m-%d')\n",
    "    except ValueError:\n",
    "        try:\n",
    "            return datetime.datetime.strptime(date_str, '%b %Y')\n",
    "        except ValueError:\n",
    "            return np.nan  # or any other placeholder value"
   ]
  },
  {
   "cell_type": "code",
   "execution_count": null,
   "metadata": {},
   "outputs": [],
   "source": [
    "# Aux function\n",
    "def process_genres(row):\n",
    "    if isinstance(row['genres'], list):\n",
    "        return row['genres']\n",
    "    elif isinstance(row['genres'], str):\n",
    "        return [genre.strip(\" '[]\") for genre in row['genres'].split(',')]\n",
    "    else:\n",
    "        return [row['genres']]"
   ]
  },
  {
   "cell_type": "code",
   "execution_count": 122,
   "metadata": {},
   "outputs": [],
   "source": [
    "\n",
    "# Step 1: Merge DataFrames based on the \"id\" and \"item_id\" keys\n",
    "merged_df = pd.merge(steam_games_df, items_df, left_on='id', right_on='item_id', how='inner')\n",
    "\n",
    "# Step 2: Explore genre lists and expand them into rows\n",
    "merged_df = merged_df.explode('genres')\n",
    "\n",
    "# Step 3: Apply the parse_date function to the 'release_date' column\n",
    "merged_df['release_date'] = merged_df['release_date'].apply(parse_date)\n",
    "\n",
    "# Step 4: Filter rows with positive playtime\n",
    "merged_df = merged_df[merged_df['playtime_forever'] > 0]\n",
    "\n",
    "# Apply the function to each row\n",
    "merged_df['genres'] = merged_df.apply(process_genres, axis=1)\n",
    "\n",
    "# Step 6: Explode the DataFrame again to have one row for each genre\n",
    "merged_df = merged_df.explode('genres')\n",
    "\n",
    "# Step 7: Group by genre and year, and calculate the maximum sum of playtime\n",
    "play_time_genre_df = merged_df.groupby(['genres', merged_df['release_date'].dt.year])['playtime_forever'].max().reset_index()\n",
    "\n",
    "# Step 8: Rename columns as per your requirements\n",
    "play_time_genre_df.columns = ['genre', 'year', 'max_playtime_hours']\n",
    "play_time_genre_df[\"year\"] = play_time_genre_df[\"year\"].astype(int)"
   ]
  },
  {
   "cell_type": "code",
   "execution_count": 123,
   "metadata": {},
   "outputs": [
    {
     "name": "stdout",
     "output_type": "stream",
     "text": [
      "\n",
      "Total rows:  189\n",
      "\n",
      "Total full null rows:  0\n",
      "\n",
      "Total duplicated rows: 0\n"
     ]
    },
    {
     "data": {
      "text/html": [
       "<div>\n",
       "<style scoped>\n",
       "    .dataframe tbody tr th:only-of-type {\n",
       "        vertical-align: middle;\n",
       "    }\n",
       "\n",
       "    .dataframe tbody tr th {\n",
       "        vertical-align: top;\n",
       "    }\n",
       "\n",
       "    .dataframe thead th {\n",
       "        text-align: right;\n",
       "    }\n",
       "</style>\n",
       "<table border=\"1\" class=\"dataframe\">\n",
       "  <thead>\n",
       "    <tr style=\"text-align: right;\">\n",
       "      <th></th>\n",
       "      <th>Column</th>\n",
       "      <th>dType</th>\n",
       "      <th>No_Null_%</th>\n",
       "      <th>No_Null_Qty</th>\n",
       "      <th>Null_%</th>\n",
       "      <th>Null_Qty</th>\n",
       "    </tr>\n",
       "  </thead>\n",
       "  <tbody>\n",
       "    <tr>\n",
       "      <th>0</th>\n",
       "      <td>genre</td>\n",
       "      <td>[&lt;class 'str'&gt;]</td>\n",
       "      <td>100.0</td>\n",
       "      <td>189</td>\n",
       "      <td>0.0</td>\n",
       "      <td>0</td>\n",
       "    </tr>\n",
       "    <tr>\n",
       "      <th>1</th>\n",
       "      <td>year</td>\n",
       "      <td>[&lt;class 'int'&gt;]</td>\n",
       "      <td>100.0</td>\n",
       "      <td>189</td>\n",
       "      <td>0.0</td>\n",
       "      <td>0</td>\n",
       "    </tr>\n",
       "    <tr>\n",
       "      <th>2</th>\n",
       "      <td>max_playtime_hours</td>\n",
       "      <td>[&lt;class 'float'&gt;]</td>\n",
       "      <td>100.0</td>\n",
       "      <td>189</td>\n",
       "      <td>0.0</td>\n",
       "      <td>0</td>\n",
       "    </tr>\n",
       "  </tbody>\n",
       "</table>\n",
       "</div>"
      ],
      "text/plain": [
       "               Column              dType  No_Null_%  No_Null_Qty  Null_%  \\\n",
       "0               genre    [<class 'str'>]      100.0          189     0.0   \n",
       "1                year    [<class 'int'>]      100.0          189     0.0   \n",
       "2  max_playtime_hours  [<class 'float'>]      100.0          189     0.0   \n",
       "\n",
       "   Null_Qty  \n",
       "0         0  \n",
       "1         0  \n",
       "2         0  "
      ]
     },
     "execution_count": 123,
     "metadata": {},
     "output_type": "execute_result"
    }
   ],
   "source": [
    "ut.data_overview(play_time_genre_df)"
   ]
  },
  {
   "cell_type": "code",
   "execution_count": 124,
   "metadata": {},
   "outputs": [
    {
     "data": {
      "text/plain": [
       "0                Action\n",
       "1                Action\n",
       "2                Action\n",
       "3                Action\n",
       "4                Action\n",
       "             ...       \n",
       "184            Strategy\n",
       "185            Strategy\n",
       "186           Utilities\n",
       "187           Utilities\n",
       "188    Video Production\n",
       "Name: genre, Length: 189, dtype: object"
      ]
     },
     "execution_count": 124,
     "metadata": {},
     "output_type": "execute_result"
    }
   ],
   "source": [
    "play_time_genre_df['genre']"
   ]
  },
  {
   "cell_type": "code",
   "execution_count": 125,
   "metadata": {},
   "outputs": [],
   "source": [
    "path = r'../simplified-data/'\n",
    "play_time_genre_df.to_csv(path + 'play_time_genre.csv', index=False)"
   ]
  },
  {
   "cell_type": "markdown",
   "metadata": {},
   "source": [
    "#### UserFoGenre"
   ]
  },
  {
   "cell_type": "code",
   "execution_count": 131,
   "metadata": {},
   "outputs": [],
   "source": [
    "# Step 1: Merge DataFrames based on the \"id\" and \"item_id\" keys\n",
    "merged_df = pd.merge(steam_games_df, items_df, left_on='id', right_on='item_id', how='inner')\n",
    "\n",
    "# Step 2: Explore genre lists and expand them into rows\n",
    "merged_df = merged_df.explode('genres')\n",
    "\n",
    "merged_df['release_date'] = merged_df['release_date'].apply(parse_date)\n",
    "\n",
    "# Step 3: Drop rows with null values in relevant columns\n",
    "merged_df = merged_df.dropna(subset=['playtime_forever', 'genres', 'user_id', 'release_date'])\n",
    "\n",
    "# Step 4: Filter rows with positive playtime\n",
    "merged_df = merged_df[merged_df['playtime_forever'] > 0]\n",
    "\n",
    "# Apply the function to each row\n",
    "merged_df['genres'] = merged_df.apply(process_genres, axis=1)\n",
    "\n",
    "# Apply the function to each row and create a new column 'processed_genres'\n",
    "merged_df['processed_genres'] = merged_df.apply(process_genres, axis=1)\n",
    "\n",
    "# Explode the 'processed_genres' column to create separate rows for each genre\n",
    "merged_df = merged_df.explode('processed_genres')\n",
    "\n",
    "# Step 5: Group by processed_genres, user, year, and calculate the sum of playtime\n",
    "user_for_genre_df = merged_df.groupby(['processed_genres', 'user_id', merged_df['release_date'].dt.year.astype(int)])['playtime_forever'].sum().reset_index()\n",
    "\n",
    "# Step 6: Find the user with the most playtime for each genre and year\n",
    "user_for_genre_df = user_for_genre_df.loc[user_for_genre_df.groupby(['processed_genres', 'release_date'])['playtime_forever'].idxmax()]\n",
    "\n",
    "# Rename columns as per your requirements\n",
    "user_for_genre_df.columns = ['genres', 'user', 'year', 'playtime_forever']\n",
    "user_for_genre_df[\"playtime_forever\"] = user_for_genre_df[\"playtime_forever\"].astype(int)"
   ]
  },
  {
   "cell_type": "code",
   "execution_count": 132,
   "metadata": {},
   "outputs": [
    {
     "name": "stdout",
     "output_type": "stream",
     "text": [
      "\n",
      "Total rows:  189\n",
      "\n",
      "Total full null rows:  0\n",
      "\n",
      "Total duplicated rows: 0\n"
     ]
    },
    {
     "data": {
      "text/html": [
       "<div>\n",
       "<style scoped>\n",
       "    .dataframe tbody tr th:only-of-type {\n",
       "        vertical-align: middle;\n",
       "    }\n",
       "\n",
       "    .dataframe tbody tr th {\n",
       "        vertical-align: top;\n",
       "    }\n",
       "\n",
       "    .dataframe thead th {\n",
       "        text-align: right;\n",
       "    }\n",
       "</style>\n",
       "<table border=\"1\" class=\"dataframe\">\n",
       "  <thead>\n",
       "    <tr style=\"text-align: right;\">\n",
       "      <th></th>\n",
       "      <th>Column</th>\n",
       "      <th>dType</th>\n",
       "      <th>No_Null_%</th>\n",
       "      <th>No_Null_Qty</th>\n",
       "      <th>Null_%</th>\n",
       "      <th>Null_Qty</th>\n",
       "    </tr>\n",
       "  </thead>\n",
       "  <tbody>\n",
       "    <tr>\n",
       "      <th>0</th>\n",
       "      <td>genres</td>\n",
       "      <td>[&lt;class 'str'&gt;]</td>\n",
       "      <td>100.0</td>\n",
       "      <td>189</td>\n",
       "      <td>0.0</td>\n",
       "      <td>0</td>\n",
       "    </tr>\n",
       "    <tr>\n",
       "      <th>1</th>\n",
       "      <td>user</td>\n",
       "      <td>[&lt;class 'str'&gt;]</td>\n",
       "      <td>100.0</td>\n",
       "      <td>189</td>\n",
       "      <td>0.0</td>\n",
       "      <td>0</td>\n",
       "    </tr>\n",
       "    <tr>\n",
       "      <th>2</th>\n",
       "      <td>year</td>\n",
       "      <td>[&lt;class 'int'&gt;]</td>\n",
       "      <td>100.0</td>\n",
       "      <td>189</td>\n",
       "      <td>0.0</td>\n",
       "      <td>0</td>\n",
       "    </tr>\n",
       "    <tr>\n",
       "      <th>3</th>\n",
       "      <td>playtime_forever</td>\n",
       "      <td>[&lt;class 'int'&gt;]</td>\n",
       "      <td>100.0</td>\n",
       "      <td>189</td>\n",
       "      <td>0.0</td>\n",
       "      <td>0</td>\n",
       "    </tr>\n",
       "  </tbody>\n",
       "</table>\n",
       "</div>"
      ],
      "text/plain": [
       "             Column            dType  No_Null_%  No_Null_Qty  Null_%  Null_Qty\n",
       "0            genres  [<class 'str'>]      100.0          189     0.0         0\n",
       "1              user  [<class 'str'>]      100.0          189     0.0         0\n",
       "2              year  [<class 'int'>]      100.0          189     0.0         0\n",
       "3  playtime_forever  [<class 'int'>]      100.0          189     0.0         0"
      ]
     },
     "execution_count": 132,
     "metadata": {},
     "output_type": "execute_result"
    }
   ],
   "source": [
    "ut.data_overview(user_for_genre_df)"
   ]
  },
  {
   "cell_type": "code",
   "execution_count": 133,
   "metadata": {},
   "outputs": [
    {
     "data": {
      "text/plain": [
       "5311               Action\n",
       "8419               Action\n",
       "11801              Action\n",
       "16248              Action\n",
       "6400               Action\n",
       "               ...       \n",
       "86741            Strategy\n",
       "86794            Strategy\n",
       "87548           Utilities\n",
       "87547           Utilities\n",
       "87550    Video Production\n",
       "Name: genres, Length: 189, dtype: object"
      ]
     },
     "execution_count": 133,
     "metadata": {},
     "output_type": "execute_result"
    }
   ],
   "source": [
    "user_for_genre_df['genres']"
   ]
  },
  {
   "cell_type": "code",
   "execution_count": 134,
   "metadata": {},
   "outputs": [
    {
     "data": {
      "text/plain": [
       "genres                         Action\n",
       "user                76561198041356854\n",
       "year                             1990\n",
       "playtime_forever                 1424\n",
       "Name: 5311, dtype: object"
      ]
     },
     "execution_count": 134,
     "metadata": {},
     "output_type": "execute_result"
    }
   ],
   "source": [
    "user_for_genre_df.iloc[0]"
   ]
  },
  {
   "cell_type": "code",
   "execution_count": 135,
   "metadata": {},
   "outputs": [],
   "source": [
    "path = r'../simplified-data/'\n",
    "user_for_genre_df.to_csv(path + 'user_for_genre.csv', index=False)"
   ]
  },
  {
   "cell_type": "markdown",
   "metadata": {},
   "source": [
    "#### UsersRecommend"
   ]
  },
  {
   "cell_type": "code",
   "execution_count": null,
   "metadata": {},
   "outputs": [],
   "source": [
    "# Filter only positive/neutral recommendations in reviews_df\n",
    "\n",
    "filtered_reviews_df = reviews_df[(reviews_df['recommend'] == True) & (reviews_df['sentiment_analysis'].isin([1, 2]))]\n",
    "\n",
    "# Merge dataframes using the filtered dataframe\n",
    "merged_df = pd.merge(filtered_reviews_df, items_df, on='item_id')\n",
    "\n",
    "# Convert the 'posted' column to datetime type\n",
    "for index, row in merged_df.iterrows():\n",
    "    try:\n",
    "        # Try to convert the date using the specified format\n",
    "        posted_date = datetime.strptime(row['posted'], 'Posted %B %d, %Y.')\n",
    "        year = posted_date.year\n",
    "    except ValueError:\n",
    "        # If there is an error, assign a value indicating that the year is not specified\n",
    "        year = 'Year not specified'\n",
    "    \n",
    "    # Assign the value of 'year' to the new column in the DataFrame\n",
    "    merged_df.at[index, 'year'] = year\n",
    "\n",
    "# Get the top 3 most recommended games per year using nlargest\n",
    "top3_df = merged_df.groupby(['year', 'item_id']).size().groupby('year', group_keys=False).nlargest(3).reset_index(name='recommendations_count')\n"
   ]
  },
  {
   "cell_type": "code",
   "execution_count": null,
   "metadata": {},
   "outputs": [],
   "source": [
    "ut.data_overview(top3_df)"
   ]
  },
  {
   "cell_type": "code",
   "execution_count": null,
   "metadata": {},
   "outputs": [],
   "source": [
    "top3_df.head"
   ]
  },
  {
   "cell_type": "code",
   "execution_count": null,
   "metadata": {},
   "outputs": [],
   "source": [
    "top3_df['year'] = pd.to_numeric(top3_df['year'], errors='coerce').astype('Int64')"
   ]
  },
  {
   "cell_type": "code",
   "execution_count": null,
   "metadata": {},
   "outputs": [],
   "source": [
    "top3_df = top3_df.dropna(subset=['year'])\n",
    "top3_df.head"
   ]
  },
  {
   "cell_type": "code",
   "execution_count": null,
   "metadata": {},
   "outputs": [],
   "source": [
    "path = r'../simplified-data/'\n",
    "top3_df.to_csv(path + 'users_recommend.csv', index=False)"
   ]
  },
  {
   "cell_type": "markdown",
   "metadata": {},
   "source": [
    "#### UsersWorstDeveloper"
   ]
  },
  {
   "cell_type": "code",
   "execution_count": 24,
   "metadata": {},
   "outputs": [],
   "source": [
    "# Filtrar revisiones\n",
    "filtered_reviews_df = reviews_df[(reviews_df['recommend'] == False) & (reviews_df['sentiment_analysis'] == 0)]\n",
    "\n",
    "# Fusionar los marcos de datos usando la columna 'item_id'\n",
    "merged_df = pd.merge(filtered_reviews_df, items_df, on='item_id')\n",
    "\n",
    "# Agregar la columna 'developer' de steam_games_df\n",
    "merged_df = pd.merge(merged_df, steam_games_df[['id', 'developer']], left_on='item_id', right_on='id', how='left')\n",
    "\n",
    "# Convertir la columna 'posted' a tipo datetime y extraer el año\n",
    "merged_df['year'] = pd.to_datetime(merged_df['posted'], format='Posted %B %d, %Y.', errors='coerce').dt.year\n",
    "\n",
    "# Filtrar las revisiones negativas no recomendadas con análisis de sentimiento igual a 0\n",
    "negative_reviews_df = merged_df[(merged_df['recommend'] == False) & (merged_df['sentiment_analysis'] == 0)]\n",
    "\n",
    "# Asegurarse de que el año sea un número entero\n",
    "negative_reviews_df['year'] = negative_reviews_df['year'].astype('Int64')\n",
    "\n",
    "# Obtener el top 3 de desarrolladoras con los tres juegos MENOS recomendados por año\n",
    "top3_least_recommended_by_year = negative_reviews_df.groupby(['year', 'developer', 'item_id']).size().groupby(['year', 'developer'], group_keys=False).nsmallest(3).reset_index(name='least_recommended_count')\n"
   ]
  },
  {
   "cell_type": "code",
   "execution_count": 25,
   "metadata": {},
   "outputs": [
    {
     "name": "stdout",
     "output_type": "stream",
     "text": [
      "\n",
      "Total rows:  219\n",
      "\n",
      "Total full null rows:  0\n",
      "\n",
      "Total duplicated rows: 0\n"
     ]
    },
    {
     "data": {
      "text/html": [
       "<div>\n",
       "<style scoped>\n",
       "    .dataframe tbody tr th:only-of-type {\n",
       "        vertical-align: middle;\n",
       "    }\n",
       "\n",
       "    .dataframe tbody tr th {\n",
       "        vertical-align: top;\n",
       "    }\n",
       "\n",
       "    .dataframe thead th {\n",
       "        text-align: right;\n",
       "    }\n",
       "</style>\n",
       "<table border=\"1\" class=\"dataframe\">\n",
       "  <thead>\n",
       "    <tr style=\"text-align: right;\">\n",
       "      <th></th>\n",
       "      <th>Column</th>\n",
       "      <th>dType</th>\n",
       "      <th>No_Null_%</th>\n",
       "      <th>No_Null_Qty</th>\n",
       "      <th>Null_%</th>\n",
       "      <th>Null_Qty</th>\n",
       "    </tr>\n",
       "  </thead>\n",
       "  <tbody>\n",
       "    <tr>\n",
       "      <th>0</th>\n",
       "      <td>year</td>\n",
       "      <td>[&lt;class 'int'&gt;]</td>\n",
       "      <td>100.0</td>\n",
       "      <td>219</td>\n",
       "      <td>0.0</td>\n",
       "      <td>0</td>\n",
       "    </tr>\n",
       "    <tr>\n",
       "      <th>1</th>\n",
       "      <td>developer</td>\n",
       "      <td>[&lt;class 'str'&gt;]</td>\n",
       "      <td>100.0</td>\n",
       "      <td>219</td>\n",
       "      <td>0.0</td>\n",
       "      <td>0</td>\n",
       "    </tr>\n",
       "    <tr>\n",
       "      <th>2</th>\n",
       "      <td>item_id</td>\n",
       "      <td>[&lt;class 'str'&gt;]</td>\n",
       "      <td>100.0</td>\n",
       "      <td>219</td>\n",
       "      <td>0.0</td>\n",
       "      <td>0</td>\n",
       "    </tr>\n",
       "    <tr>\n",
       "      <th>3</th>\n",
       "      <td>least_recommended_count</td>\n",
       "      <td>[&lt;class 'int'&gt;]</td>\n",
       "      <td>100.0</td>\n",
       "      <td>219</td>\n",
       "      <td>0.0</td>\n",
       "      <td>0</td>\n",
       "    </tr>\n",
       "  </tbody>\n",
       "</table>\n",
       "</div>"
      ],
      "text/plain": [
       "                    Column            dType  No_Null_%  No_Null_Qty  Null_%  \\\n",
       "0                     year  [<class 'int'>]      100.0          219     0.0   \n",
       "1                developer  [<class 'str'>]      100.0          219     0.0   \n",
       "2                  item_id  [<class 'str'>]      100.0          219     0.0   \n",
       "3  least_recommended_count  [<class 'int'>]      100.0          219     0.0   \n",
       "\n",
       "   Null_Qty  \n",
       "0         0  \n",
       "1         0  \n",
       "2         0  \n",
       "3         0  "
      ]
     },
     "execution_count": 25,
     "metadata": {},
     "output_type": "execute_result"
    }
   ],
   "source": [
    "ut.data_overview(top3_least_recommended_by_year)"
   ]
  },
  {
   "cell_type": "code",
   "execution_count": 26,
   "metadata": {},
   "outputs": [
    {
     "data": {
      "text/html": [
       "<div>\n",
       "<style scoped>\n",
       "    .dataframe tbody tr th:only-of-type {\n",
       "        vertical-align: middle;\n",
       "    }\n",
       "\n",
       "    .dataframe tbody tr th {\n",
       "        vertical-align: top;\n",
       "    }\n",
       "\n",
       "    .dataframe thead th {\n",
       "        text-align: right;\n",
       "    }\n",
       "</style>\n",
       "<table border=\"1\" class=\"dataframe\">\n",
       "  <thead>\n",
       "    <tr style=\"text-align: right;\">\n",
       "      <th></th>\n",
       "      <th>year</th>\n",
       "      <th>developer</th>\n",
       "      <th>item_id</th>\n",
       "      <th>least_recommended_count</th>\n",
       "    </tr>\n",
       "  </thead>\n",
       "  <tbody>\n",
       "    <tr>\n",
       "      <th>0</th>\n",
       "      <td>2011</td>\n",
       "      <td>Ubisoft Montpellier</td>\n",
       "      <td>33460</td>\n",
       "      <td>3</td>\n",
       "    </tr>\n",
       "    <tr>\n",
       "      <th>1</th>\n",
       "      <td>2013</td>\n",
       "      <td>Avalanche Studios</td>\n",
       "      <td>8190</td>\n",
       "      <td>151</td>\n",
       "    </tr>\n",
       "    <tr>\n",
       "      <th>2</th>\n",
       "      <td>2013</td>\n",
       "      <td>Bohemia Interactive</td>\n",
       "      <td>221100</td>\n",
       "      <td>16</td>\n",
       "    </tr>\n",
       "    <tr>\n",
       "      <th>3</th>\n",
       "      <td>2013</td>\n",
       "      <td>Chucklefish</td>\n",
       "      <td>211820</td>\n",
       "      <td>11</td>\n",
       "    </tr>\n",
       "    <tr>\n",
       "      <th>4</th>\n",
       "      <td>2013</td>\n",
       "      <td>Creative Assembly</td>\n",
       "      <td>214950</td>\n",
       "      <td>18</td>\n",
       "    </tr>\n",
       "    <tr>\n",
       "      <th>...</th>\n",
       "      <td>...</td>\n",
       "      <td>...</td>\n",
       "      <td>...</td>\n",
       "      <td>...</td>\n",
       "    </tr>\n",
       "    <tr>\n",
       "      <th>214</th>\n",
       "      <td>2015</td>\n",
       "      <td>Valve</td>\n",
       "      <td>620</td>\n",
       "      <td>438</td>\n",
       "    </tr>\n",
       "    <tr>\n",
       "      <th>215</th>\n",
       "      <td>2015</td>\n",
       "      <td>Valve</td>\n",
       "      <td>20</td>\n",
       "      <td>756</td>\n",
       "    </tr>\n",
       "    <tr>\n",
       "      <th>216</th>\n",
       "      <td>2015</td>\n",
       "      <td>Valve</td>\n",
       "      <td>730</td>\n",
       "      <td>17887</td>\n",
       "    </tr>\n",
       "    <tr>\n",
       "      <th>217</th>\n",
       "      <td>2015</td>\n",
       "      <td>Wild Shadow Studios</td>\n",
       "      <td>200210</td>\n",
       "      <td>142</td>\n",
       "    </tr>\n",
       "    <tr>\n",
       "      <th>218</th>\n",
       "      <td>2015</td>\n",
       "      <td>XLGAMES</td>\n",
       "      <td>304030</td>\n",
       "      <td>1</td>\n",
       "    </tr>\n",
       "  </tbody>\n",
       "</table>\n",
       "<p>219 rows × 4 columns</p>\n",
       "</div>"
      ],
      "text/plain": [
       "     year            developer item_id  least_recommended_count\n",
       "0    2011  Ubisoft Montpellier   33460                        3\n",
       "1    2013    Avalanche Studios    8190                      151\n",
       "2    2013  Bohemia Interactive  221100                       16\n",
       "3    2013          Chucklefish  211820                       11\n",
       "4    2013    Creative Assembly  214950                       18\n",
       "..    ...                  ...     ...                      ...\n",
       "214  2015                Valve     620                      438\n",
       "215  2015                Valve      20                      756\n",
       "216  2015                Valve     730                    17887\n",
       "217  2015  Wild Shadow Studios  200210                      142\n",
       "218  2015              XLGAMES  304030                        1\n",
       "\n",
       "[219 rows x 4 columns]"
      ]
     },
     "execution_count": 26,
     "metadata": {},
     "output_type": "execute_result"
    }
   ],
   "source": [
    "top3_least_recommended_by_year"
   ]
  },
  {
   "cell_type": "markdown",
   "metadata": {},
   "source": [
    "#### sentiment_analysis"
   ]
  },
  {
   "cell_type": "code",
   "execution_count": 31,
   "metadata": {},
   "outputs": [],
   "source": [
    "# Combinar DataFrames\n",
    "merged_df = pd.merge(steam_games_df, reviews_df, left_on='id', right_on='item_id')\n",
    "\n",
    "# Crear columnas para cada categoría de sentimiento\n",
    "sentiment_columns = ['Negative', 'Neutral', 'Positive']\n",
    "for sentiment in sentiment_columns:\n",
    "    merged_df[sentiment] = (merged_df['sentiment_analysis'] == sentiment_columns.index(sentiment)).astype(int)\n",
    "\n",
    "# Agrupar por desarrollador y sumar los conteos\n",
    "sentiment_analysis_df = merged_df.groupby('developer')[sentiment_columns].sum().reset_index()"
   ]
  },
  {
   "cell_type": "code",
   "execution_count": 32,
   "metadata": {},
   "outputs": [
    {
     "name": "stdout",
     "output_type": "stream",
     "text": [
      "\n",
      "Total rows:  1457\n",
      "\n",
      "Total full null rows:  0\n",
      "\n",
      "Total duplicated rows: 0\n"
     ]
    },
    {
     "data": {
      "text/html": [
       "<div>\n",
       "<style scoped>\n",
       "    .dataframe tbody tr th:only-of-type {\n",
       "        vertical-align: middle;\n",
       "    }\n",
       "\n",
       "    .dataframe tbody tr th {\n",
       "        vertical-align: top;\n",
       "    }\n",
       "\n",
       "    .dataframe thead th {\n",
       "        text-align: right;\n",
       "    }\n",
       "</style>\n",
       "<table border=\"1\" class=\"dataframe\">\n",
       "  <thead>\n",
       "    <tr style=\"text-align: right;\">\n",
       "      <th></th>\n",
       "      <th>Column</th>\n",
       "      <th>dType</th>\n",
       "      <th>No_Null_%</th>\n",
       "      <th>No_Null_Qty</th>\n",
       "      <th>Null_%</th>\n",
       "      <th>Null_Qty</th>\n",
       "    </tr>\n",
       "  </thead>\n",
       "  <tbody>\n",
       "    <tr>\n",
       "      <th>0</th>\n",
       "      <td>developer</td>\n",
       "      <td>[&lt;class 'str'&gt;]</td>\n",
       "      <td>100.0</td>\n",
       "      <td>1457</td>\n",
       "      <td>0.0</td>\n",
       "      <td>0</td>\n",
       "    </tr>\n",
       "    <tr>\n",
       "      <th>1</th>\n",
       "      <td>Negative</td>\n",
       "      <td>[&lt;class 'int'&gt;]</td>\n",
       "      <td>100.0</td>\n",
       "      <td>1457</td>\n",
       "      <td>0.0</td>\n",
       "      <td>0</td>\n",
       "    </tr>\n",
       "    <tr>\n",
       "      <th>2</th>\n",
       "      <td>Neutral</td>\n",
       "      <td>[&lt;class 'int'&gt;]</td>\n",
       "      <td>100.0</td>\n",
       "      <td>1457</td>\n",
       "      <td>0.0</td>\n",
       "      <td>0</td>\n",
       "    </tr>\n",
       "    <tr>\n",
       "      <th>3</th>\n",
       "      <td>Positive</td>\n",
       "      <td>[&lt;class 'int'&gt;]</td>\n",
       "      <td>100.0</td>\n",
       "      <td>1457</td>\n",
       "      <td>0.0</td>\n",
       "      <td>0</td>\n",
       "    </tr>\n",
       "  </tbody>\n",
       "</table>\n",
       "</div>"
      ],
      "text/plain": [
       "      Column            dType  No_Null_%  No_Null_Qty  Null_%  Null_Qty\n",
       "0  developer  [<class 'str'>]      100.0         1457     0.0         0\n",
       "1   Negative  [<class 'int'>]      100.0         1457     0.0         0\n",
       "2    Neutral  [<class 'int'>]      100.0         1457     0.0         0\n",
       "3   Positive  [<class 'int'>]      100.0         1457     0.0         0"
      ]
     },
     "execution_count": 32,
     "metadata": {},
     "output_type": "execute_result"
    }
   ],
   "source": [
    "ut.data_overview(sentiment_analysis_df)"
   ]
  },
  {
   "cell_type": "code",
   "execution_count": 33,
   "metadata": {},
   "outputs": [],
   "source": [
    "path = r'../simplified-data/'\n",
    "sentiment_analysis_df.to_csv(path + 'sentiment_analysis.csv', index=False)"
   ]
  },
  {
   "cell_type": "markdown",
   "metadata": {},
   "source": [
    "#### recomendacion_juego"
   ]
  },
  {
   "cell_type": "code",
   "execution_count": 136,
   "metadata": {},
   "outputs": [],
   "source": [
    "desired_columns = [\"genres\", \"tags\", \"specs\",\"id\",\"app_name\"]\n",
    "game_recomendation_df = steam_games_df[desired_columns].copy()"
   ]
  },
  {
   "cell_type": "code",
   "execution_count": 137,
   "metadata": {},
   "outputs": [],
   "source": [
    "path = r'../simplified-data/'\n",
    "game_recomendation_df.to_csv(path + 'game_recomendation.csv', index=False)"
   ]
  }
 ],
 "metadata": {
  "kernelspec": {
   "display_name": "Python 3",
   "language": "python",
   "name": "python3"
  },
  "language_info": {
   "codemirror_mode": {
    "name": "ipython",
    "version": 3
   },
   "file_extension": ".py",
   "mimetype": "text/x-python",
   "name": "python",
   "nbconvert_exporter": "python",
   "pygments_lexer": "ipython3",
   "version": "3.10.12"
  }
 },
 "nbformat": 4,
 "nbformat_minor": 2
}
