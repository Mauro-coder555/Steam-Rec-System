{
 "cells": [
  {
   "cell_type": "code",
   "execution_count": 6,
   "metadata": {},
   "outputs": [],
   "source": [
    "import pandas as pd\n",
    "import utils as ut\n",
    "import ast"
   ]
  },
  {
   "cell_type": "code",
   "execution_count": 3,
   "metadata": {},
   "outputs": [
    {
     "data": {
      "text/html": [
       "<div>\n",
       "<style scoped>\n",
       "    .dataframe tbody tr th:only-of-type {\n",
       "        vertical-align: middle;\n",
       "    }\n",
       "\n",
       "    .dataframe tbody tr th {\n",
       "        vertical-align: top;\n",
       "    }\n",
       "\n",
       "    .dataframe thead th {\n",
       "        text-align: right;\n",
       "    }\n",
       "</style>\n",
       "<table border=\"1\" class=\"dataframe\">\n",
       "  <thead>\n",
       "    <tr style=\"text-align: right;\">\n",
       "      <th></th>\n",
       "      <th>user_id</th>\n",
       "      <th>user_url</th>\n",
       "      <th>reviews</th>\n",
       "    </tr>\n",
       "  </thead>\n",
       "  <tbody>\n",
       "    <tr>\n",
       "      <th>0</th>\n",
       "      <td>76561197970982479</td>\n",
       "      <td>http://steamcommunity.com/profiles/76561197970...</td>\n",
       "      <td>[{'funny': '', 'posted': 'Posted November 5, 2...</td>\n",
       "    </tr>\n",
       "    <tr>\n",
       "      <th>1</th>\n",
       "      <td>js41637</td>\n",
       "      <td>http://steamcommunity.com/id/js41637</td>\n",
       "      <td>[{'funny': '', 'posted': 'Posted June 24, 2014...</td>\n",
       "    </tr>\n",
       "  </tbody>\n",
       "</table>\n",
       "</div>"
      ],
      "text/plain": [
       "             user_id                                           user_url  \\\n",
       "0  76561197970982479  http://steamcommunity.com/profiles/76561197970...   \n",
       "1            js41637               http://steamcommunity.com/id/js41637   \n",
       "\n",
       "                                             reviews  \n",
       "0  [{'funny': '', 'posted': 'Posted November 5, 2...  \n",
       "1  [{'funny': '', 'posted': 'Posted June 24, 2014...  "
      ]
     },
     "execution_count": 3,
     "metadata": {},
     "output_type": "execute_result"
    }
   ],
   "source": [
    "path = '../data/generated/reviews.csv'\n",
    "\n",
    "df_reviews = pd.read_csv(path)\n",
    "df_reviews.head(2)"
   ]
  },
  {
   "cell_type": "code",
   "execution_count": 36,
   "metadata": {},
   "outputs": [],
   "source": [
    "# Cargar el archivo CSV\n",
    "path = '../data/generated/reviews.csv'\n",
    "df = pd.read_csv(path)\n",
    "\n",
    "# Convertir las cadenas en listas de diccionarios\n",
    "df['reviews'] = df['reviews'].apply(ast.literal_eval)\n",
    "\n",
    "# Obtener todas las claves únicas de los diccionarios en la columna 'reviews'\n",
    "all_keys = set()\n",
    "for review_list in df['reviews']:\n",
    "    for review_dict in review_list:\n",
    "        all_keys.update(review_dict.keys())\n",
    "\n",
    "# Crear nuevas columnas para cada clave única y llenarlas con los valores correspondientes\n",
    "for key in all_keys:\n",
    "    df[key] = df['reviews'].apply(lambda x: [review[key] if key in review else None for review in x])\n",
    "\n",
    "# Eliminar la columna original 'reviews'\n",
    "df = df.drop('reviews', axis=1)"
   ]
  },
  {
   "cell_type": "code",
   "execution_count": 37,
   "metadata": {},
   "outputs": [
    {
     "data": {
      "text/html": [
       "<div>\n",
       "<style scoped>\n",
       "    .dataframe tbody tr th:only-of-type {\n",
       "        vertical-align: middle;\n",
       "    }\n",
       "\n",
       "    .dataframe tbody tr th {\n",
       "        vertical-align: top;\n",
       "    }\n",
       "\n",
       "    .dataframe thead th {\n",
       "        text-align: right;\n",
       "    }\n",
       "</style>\n",
       "<table border=\"1\" class=\"dataframe\">\n",
       "  <thead>\n",
       "    <tr style=\"text-align: right;\">\n",
       "      <th></th>\n",
       "      <th>user_id</th>\n",
       "      <th>user_url</th>\n",
       "      <th>last_edited</th>\n",
       "      <th>review</th>\n",
       "      <th>helpful</th>\n",
       "      <th>funny</th>\n",
       "      <th>recommend</th>\n",
       "      <th>item_id</th>\n",
       "      <th>posted</th>\n",
       "    </tr>\n",
       "  </thead>\n",
       "  <tbody>\n",
       "    <tr>\n",
       "      <th>0</th>\n",
       "      <td>76561197970982479</td>\n",
       "      <td>http://steamcommunity.com/profiles/76561197970...</td>\n",
       "      <td>[, , ]</td>\n",
       "      <td>[Simple yet with great replayability. In my op...</td>\n",
       "      <td>[No ratings yet, No ratings yet, No ratings yet]</td>\n",
       "      <td>[, , ]</td>\n",
       "      <td>[True, True, True]</td>\n",
       "      <td>[1250, 22200, 43110]</td>\n",
       "      <td>[Posted November 5, 2011., Posted July 15, 201...</td>\n",
       "    </tr>\n",
       "    <tr>\n",
       "      <th>1</th>\n",
       "      <td>js41637</td>\n",
       "      <td>http://steamcommunity.com/id/js41637</td>\n",
       "      <td>[, , ]</td>\n",
       "      <td>[I know what you think when you see this title...</td>\n",
       "      <td>[15 of 20 people (75%) found this review helpf...</td>\n",
       "      <td>[, , ]</td>\n",
       "      <td>[True, True, True]</td>\n",
       "      <td>[251610, 227300, 239030]</td>\n",
       "      <td>[Posted June 24, 2014., Posted September 8, 20...</td>\n",
       "    </tr>\n",
       "  </tbody>\n",
       "</table>\n",
       "</div>"
      ],
      "text/plain": [
       "             user_id                                           user_url  \\\n",
       "0  76561197970982479  http://steamcommunity.com/profiles/76561197970...   \n",
       "1            js41637               http://steamcommunity.com/id/js41637   \n",
       "\n",
       "  last_edited                                             review  \\\n",
       "0      [, , ]  [Simple yet with great replayability. In my op...   \n",
       "1      [, , ]  [I know what you think when you see this title...   \n",
       "\n",
       "                                             helpful   funny  \\\n",
       "0   [No ratings yet, No ratings yet, No ratings yet]  [, , ]   \n",
       "1  [15 of 20 people (75%) found this review helpf...  [, , ]   \n",
       "\n",
       "            recommend                   item_id  \\\n",
       "0  [True, True, True]      [1250, 22200, 43110]   \n",
       "1  [True, True, True]  [251610, 227300, 239030]   \n",
       "\n",
       "                                              posted  \n",
       "0  [Posted November 5, 2011., Posted July 15, 201...  \n",
       "1  [Posted June 24, 2014., Posted September 8, 20...  "
      ]
     },
     "execution_count": 37,
     "metadata": {},
     "output_type": "execute_result"
    }
   ],
   "source": [
    "df.head(2)"
   ]
  },
  {
   "cell_type": "code",
   "execution_count": 89,
   "metadata": {},
   "outputs": [],
   "source": [
    "# Cargar el archivo CSV en un DataFrame\n",
    "path = '../data/generated/reviews.csv'\n",
    "df = pd.read_csv(path)\n",
    "\n",
    "# Convertir la columna 'reviews' de cadena a una lista de diccionarios\n",
    "df['reviews'] = df['reviews'].apply(ast.literal_eval)\n",
    "\n",
    "# Obtener todas las claves únicas de los diccionarios en la columna 'reviews'\n",
    "all_keys = set()\n",
    "for review_list in df['reviews']:\n",
    "    for review_dict in review_list:\n",
    "        all_keys.update(review_dict.keys())\n",
    "\n",
    "# Crear columnas adicionales en el DataFrame para cada clave única\n",
    "for key in all_keys:\n",
    "    df[key] = df['reviews'].apply(lambda x: [d.get(key, None) for d in x])\n",
    "\n",
    "# Expandir las listas de diccionarios en nuevas filas\n",
    "df_expanded = df.explode('reviews')\n",
    "\n",
    "\n",
    "\n",
    "# Expandir las listas de valores en las columnas\n",
    "for col in df.columns.difference(['user_id', 'user_url', 'reviews']):\n",
    "    df_expanded[col] = df_expanded[col].apply(lambda x: x[0] if isinstance(x, list) and len(x) > 0 else None)\n",
    "\n",
    "# Reorganizar las columnas para tener las originales seguidas de las nuevas\n",
    "new_columns_order = list(df.columns) + [col for col in df_expanded.columns if col not in df.columns]\n",
    "df_expanded = df_expanded[new_columns_order]\n"
   ]
  },
  {
   "cell_type": "code",
   "execution_count": 93,
   "metadata": {},
   "outputs": [],
   "source": [
    "# Eliminar la columna original 'reviews'\n",
    "df_expanded.drop('reviews', axis=1, inplace=True)"
   ]
  },
  {
   "cell_type": "code",
   "execution_count": 94,
   "metadata": {},
   "outputs": [
    {
     "data": {
      "text/plain": [
       "Index(['user_id', 'user_url', 'last_edited', 'review', 'helpful', 'funny',\n",
       "       'recommend', 'item_id', 'posted'],\n",
       "      dtype='object')"
      ]
     },
     "execution_count": 94,
     "metadata": {},
     "output_type": "execute_result"
    }
   ],
   "source": [
    "df_expanded.columns"
   ]
  },
  {
   "cell_type": "code",
   "execution_count": null,
   "metadata": {},
   "outputs": [],
   "source": [
    "# Exportar el DataFrame a un archivo CSV\n",
    "output_path = '../data/generated/reviews_sentiment.csv'\n",
    "df_expanded.to_csv(output_path, index=False)"
   ]
  }
 ],
 "metadata": {
  "kernelspec": {
   "display_name": "Python 3",
   "language": "python",
   "name": "python3"
  },
  "language_info": {
   "codemirror_mode": {
    "name": "ipython",
    "version": 3
   },
   "file_extension": ".py",
   "mimetype": "text/x-python",
   "name": "python",
   "nbconvert_exporter": "python",
   "pygments_lexer": "ipython3",
   "version": "3.10.12"
  }
 },
 "nbformat": 4,
 "nbformat_minor": 2
}
