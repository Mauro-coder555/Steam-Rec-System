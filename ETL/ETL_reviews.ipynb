{
 "cells": [
  {
   "cell_type": "code",
   "execution_count": 2,
   "metadata": {},
   "outputs": [],
   "source": [
    "import pandas as pd\n",
    "import utils as ut\n",
    "import ast\n",
    "import importlib"
   ]
  },
  {
   "cell_type": "code",
   "execution_count": 125,
   "metadata": {},
   "outputs": [
    {
     "data": {
      "text/plain": [
       "<module 'utils' from '/home/mauro/HENRY FT17/Proyectos/PI 1/Steam-Rec-System/ETL/utils.py'>"
      ]
     },
     "execution_count": 125,
     "metadata": {},
     "output_type": "execute_result"
    }
   ],
   "source": [
    "importlib.reload(ut)"
   ]
  },
  {
   "cell_type": "code",
   "execution_count": 126,
   "metadata": {},
   "outputs": [],
   "source": [
    "# Especifica la ruta del archivo JSON\n",
    "json_path = \"../data/originals/user_reviews.json\"\n",
    "\n",
    "reviews = []\n",
    "with open(json_path, 'r', encoding='utf-8') as f:\n",
    "    # loop for insert data into list\n",
    "    for line in f.readlines():\n",
    "        reviews.append(ast.literal_eval(line))\n",
    "\n",
    "reviews_df = pd.DataFrame(reviews)\n",
    "\n"
   ]
  },
  {
   "cell_type": "markdown",
   "metadata": {},
   "source": [
    "#### The first record is reviewed to see its content and the names of the columns."
   ]
  },
  {
   "cell_type": "code",
   "execution_count": 127,
   "metadata": {},
   "outputs": [
    {
     "name": "stdout",
     "output_type": "stream",
     "text": [
      "user_id                                     76561197970982479\n",
      "user_url    http://steamcommunity.com/profiles/76561197970...\n",
      "reviews     [{'funny': '', 'posted': 'Posted November 5, 2...\n",
      "Name: 0, dtype: object\n"
     ]
    }
   ],
   "source": [
    "print(reviews_df.iloc[0])"
   ]
  },
  {
   "cell_type": "code",
   "execution_count": 128,
   "metadata": {},
   "outputs": [],
   "source": [
    "# This step is applied to convert the lists into strings and thus be able to generate an overview of the data.\n",
    "reviews_df['reviews'] = reviews_df['reviews'].apply(str)"
   ]
  },
  {
   "cell_type": "code",
   "execution_count": 129,
   "metadata": {},
   "outputs": [
    {
     "name": "stdout",
     "output_type": "stream",
     "text": [
      "\n",
      "Total rows:  25799\n",
      "\n",
      "Total full null rows:  0\n",
      "\n",
      "Total duplicated rows: 313\n"
     ]
    },
    {
     "data": {
      "text/html": [
       "<div>\n",
       "<style scoped>\n",
       "    .dataframe tbody tr th:only-of-type {\n",
       "        vertical-align: middle;\n",
       "    }\n",
       "\n",
       "    .dataframe tbody tr th {\n",
       "        vertical-align: top;\n",
       "    }\n",
       "\n",
       "    .dataframe thead th {\n",
       "        text-align: right;\n",
       "    }\n",
       "</style>\n",
       "<table border=\"1\" class=\"dataframe\">\n",
       "  <thead>\n",
       "    <tr style=\"text-align: right;\">\n",
       "      <th></th>\n",
       "      <th>Column</th>\n",
       "      <th>dType</th>\n",
       "      <th>No_Null_%</th>\n",
       "      <th>No_Null_Qty</th>\n",
       "      <th>Null_%</th>\n",
       "      <th>Null_Qty</th>\n",
       "    </tr>\n",
       "  </thead>\n",
       "  <tbody>\n",
       "    <tr>\n",
       "      <th>0</th>\n",
       "      <td>user_id</td>\n",
       "      <td>[&lt;class 'str'&gt;]</td>\n",
       "      <td>100.0</td>\n",
       "      <td>25799</td>\n",
       "      <td>0.0</td>\n",
       "      <td>0</td>\n",
       "    </tr>\n",
       "    <tr>\n",
       "      <th>1</th>\n",
       "      <td>user_url</td>\n",
       "      <td>[&lt;class 'str'&gt;]</td>\n",
       "      <td>100.0</td>\n",
       "      <td>25799</td>\n",
       "      <td>0.0</td>\n",
       "      <td>0</td>\n",
       "    </tr>\n",
       "    <tr>\n",
       "      <th>2</th>\n",
       "      <td>reviews</td>\n",
       "      <td>[&lt;class 'str'&gt;]</td>\n",
       "      <td>100.0</td>\n",
       "      <td>25799</td>\n",
       "      <td>0.0</td>\n",
       "      <td>0</td>\n",
       "    </tr>\n",
       "  </tbody>\n",
       "</table>\n",
       "</div>"
      ],
      "text/plain": [
       "     Column            dType  No_Null_%  No_Null_Qty  Null_%  Null_Qty\n",
       "0   user_id  [<class 'str'>]      100.0        25799     0.0         0\n",
       "1  user_url  [<class 'str'>]      100.0        25799     0.0         0\n",
       "2   reviews  [<class 'str'>]      100.0        25799     0.0         0"
      ]
     },
     "execution_count": 129,
     "metadata": {},
     "output_type": "execute_result"
    }
   ],
   "source": [
    "ut.data_overview(reviews_df)"
   ]
  },
  {
   "cell_type": "markdown",
   "metadata": {},
   "source": [
    "#### Obtain a dataset with the information from the unnested 'reviews' column."
   ]
  },
  {
   "cell_type": "code",
   "execution_count": 130,
   "metadata": {},
   "outputs": [],
   "source": [
    "# Convertir la columna 'reviews' de cadena a una lista de diccionarios\n",
    "reviews_df['reviews'] = reviews_df['reviews'].apply(ast.literal_eval)\n",
    "\n",
    "# Obtener todas las claves únicas de los diccionarios en la columna 'reviews'\n",
    "all_keys = set()\n",
    "for review_list in reviews_df['reviews']:\n",
    "    for review_dict in review_list:\n",
    "        all_keys.update(review_dict.keys())\n",
    "\n",
    "# Crear columnas adicionales en el DataFrame para cada clave única\n",
    "for key in all_keys:\n",
    "    reviews_df[key] = reviews_df['reviews'].apply(lambda x: [d.get(key, None) for d in x])\n",
    "\n",
    "# Expandir las listas de diccionarios en nuevas filas\n",
    "df_expanded = reviews_df.explode('reviews')\n",
    "\n",
    "\n",
    "\n",
    "# Expandir las listas de valores en las columnas\n",
    "for col in reviews_df.columns.difference(['user_id', 'user_url', 'reviews']):\n",
    "    df_expanded[col] = df_expanded[col].apply(lambda x: x[0] if isinstance(x, list) and len(x) > 0 else None)\n",
    "\n",
    "# Reorganizar las columnas para tener las originales seguidas de las nuevas\n",
    "new_columns_order = list(reviews_df.columns) + [col for col in df_expanded.columns if col not in reviews_df.columns]\n",
    "df_expanded = df_expanded[new_columns_order]\n"
   ]
  },
  {
   "cell_type": "code",
   "execution_count": 131,
   "metadata": {},
   "outputs": [],
   "source": [
    "# Eliminar las columnas 'reviews', 'user_id' y 'user_url'\n",
    "df_expanded.drop(['reviews', 'user_id', 'user_url'], axis=1, inplace=True)"
   ]
  },
  {
   "cell_type": "code",
   "execution_count": 132,
   "metadata": {},
   "outputs": [
    {
     "name": "stdout",
     "output_type": "stream",
     "text": [
      "\n",
      "Total rows:  59333\n",
      "\n",
      "Total full null rows:  28\n",
      "\n",
      "Total duplicated rows: 33875\n"
     ]
    },
    {
     "data": {
      "text/html": [
       "<div>\n",
       "<style scoped>\n",
       "    .dataframe tbody tr th:only-of-type {\n",
       "        vertical-align: middle;\n",
       "    }\n",
       "\n",
       "    .dataframe tbody tr th {\n",
       "        vertical-align: top;\n",
       "    }\n",
       "\n",
       "    .dataframe thead th {\n",
       "        text-align: right;\n",
       "    }\n",
       "</style>\n",
       "<table border=\"1\" class=\"dataframe\">\n",
       "  <thead>\n",
       "    <tr style=\"text-align: right;\">\n",
       "      <th></th>\n",
       "      <th>Column</th>\n",
       "      <th>dType</th>\n",
       "      <th>No_Null_%</th>\n",
       "      <th>No_Null_Qty</th>\n",
       "      <th>Null_%</th>\n",
       "      <th>Null_Qty</th>\n",
       "    </tr>\n",
       "  </thead>\n",
       "  <tbody>\n",
       "    <tr>\n",
       "      <th>0</th>\n",
       "      <td>last_edited</td>\n",
       "      <td>[&lt;class 'str'&gt;, &lt;class 'NoneType'&gt;]</td>\n",
       "      <td>99.95</td>\n",
       "      <td>59305</td>\n",
       "      <td>0.05</td>\n",
       "      <td>28</td>\n",
       "    </tr>\n",
       "    <tr>\n",
       "      <th>1</th>\n",
       "      <td>item_id</td>\n",
       "      <td>[&lt;class 'str'&gt;, &lt;class 'NoneType'&gt;]</td>\n",
       "      <td>99.95</td>\n",
       "      <td>59305</td>\n",
       "      <td>0.05</td>\n",
       "      <td>28</td>\n",
       "    </tr>\n",
       "    <tr>\n",
       "      <th>2</th>\n",
       "      <td>funny</td>\n",
       "      <td>[&lt;class 'str'&gt;, &lt;class 'NoneType'&gt;]</td>\n",
       "      <td>99.95</td>\n",
       "      <td>59305</td>\n",
       "      <td>0.05</td>\n",
       "      <td>28</td>\n",
       "    </tr>\n",
       "    <tr>\n",
       "      <th>3</th>\n",
       "      <td>posted</td>\n",
       "      <td>[&lt;class 'str'&gt;, &lt;class 'NoneType'&gt;]</td>\n",
       "      <td>99.95</td>\n",
       "      <td>59305</td>\n",
       "      <td>0.05</td>\n",
       "      <td>28</td>\n",
       "    </tr>\n",
       "    <tr>\n",
       "      <th>4</th>\n",
       "      <td>helpful</td>\n",
       "      <td>[&lt;class 'str'&gt;, &lt;class 'NoneType'&gt;]</td>\n",
       "      <td>99.95</td>\n",
       "      <td>59305</td>\n",
       "      <td>0.05</td>\n",
       "      <td>28</td>\n",
       "    </tr>\n",
       "    <tr>\n",
       "      <th>5</th>\n",
       "      <td>recommend</td>\n",
       "      <td>[&lt;class 'bool'&gt;, &lt;class 'NoneType'&gt;]</td>\n",
       "      <td>99.95</td>\n",
       "      <td>59305</td>\n",
       "      <td>0.05</td>\n",
       "      <td>28</td>\n",
       "    </tr>\n",
       "    <tr>\n",
       "      <th>6</th>\n",
       "      <td>review</td>\n",
       "      <td>[&lt;class 'str'&gt;, &lt;class 'NoneType'&gt;]</td>\n",
       "      <td>99.95</td>\n",
       "      <td>59305</td>\n",
       "      <td>0.05</td>\n",
       "      <td>28</td>\n",
       "    </tr>\n",
       "  </tbody>\n",
       "</table>\n",
       "</div>"
      ],
      "text/plain": [
       "        Column                                 dType  No_Null_%  No_Null_Qty  \\\n",
       "0  last_edited   [<class 'str'>, <class 'NoneType'>]      99.95        59305   \n",
       "1      item_id   [<class 'str'>, <class 'NoneType'>]      99.95        59305   \n",
       "2        funny   [<class 'str'>, <class 'NoneType'>]      99.95        59305   \n",
       "3       posted   [<class 'str'>, <class 'NoneType'>]      99.95        59305   \n",
       "4      helpful   [<class 'str'>, <class 'NoneType'>]      99.95        59305   \n",
       "5    recommend  [<class 'bool'>, <class 'NoneType'>]      99.95        59305   \n",
       "6       review   [<class 'str'>, <class 'NoneType'>]      99.95        59305   \n",
       "\n",
       "   Null_%  Null_Qty  \n",
       "0    0.05        28  \n",
       "1    0.05        28  \n",
       "2    0.05        28  \n",
       "3    0.05        28  \n",
       "4    0.05        28  \n",
       "5    0.05        28  \n",
       "6    0.05        28  "
      ]
     },
     "execution_count": 132,
     "metadata": {},
     "output_type": "execute_result"
    }
   ],
   "source": [
    "ut.data_overview(df_expanded)"
   ]
  },
  {
   "cell_type": "markdown",
   "metadata": {},
   "source": [
    "#### We proceed to remove nulls and duplicates."
   ]
  },
  {
   "cell_type": "code",
   "execution_count": 133,
   "metadata": {},
   "outputs": [],
   "source": [
    "df_expanded.dropna(inplace=True)\n",
    "df_expanded.drop_duplicates(inplace=True)"
   ]
  },
  {
   "cell_type": "code",
   "execution_count": 134,
   "metadata": {},
   "outputs": [
    {
     "name": "stdout",
     "output_type": "stream",
     "text": [
      "\n",
      "Total rows:  25457\n",
      "\n",
      "Total full null rows:  0\n",
      "\n",
      "Total duplicated rows: 0\n"
     ]
    },
    {
     "data": {
      "text/html": [
       "<div>\n",
       "<style scoped>\n",
       "    .dataframe tbody tr th:only-of-type {\n",
       "        vertical-align: middle;\n",
       "    }\n",
       "\n",
       "    .dataframe tbody tr th {\n",
       "        vertical-align: top;\n",
       "    }\n",
       "\n",
       "    .dataframe thead th {\n",
       "        text-align: right;\n",
       "    }\n",
       "</style>\n",
       "<table border=\"1\" class=\"dataframe\">\n",
       "  <thead>\n",
       "    <tr style=\"text-align: right;\">\n",
       "      <th></th>\n",
       "      <th>Column</th>\n",
       "      <th>dType</th>\n",
       "      <th>No_Null_%</th>\n",
       "      <th>No_Null_Qty</th>\n",
       "      <th>Null_%</th>\n",
       "      <th>Null_Qty</th>\n",
       "    </tr>\n",
       "  </thead>\n",
       "  <tbody>\n",
       "    <tr>\n",
       "      <th>0</th>\n",
       "      <td>last_edited</td>\n",
       "      <td>[&lt;class 'str'&gt;]</td>\n",
       "      <td>100.0</td>\n",
       "      <td>25457</td>\n",
       "      <td>0.0</td>\n",
       "      <td>0</td>\n",
       "    </tr>\n",
       "    <tr>\n",
       "      <th>1</th>\n",
       "      <td>item_id</td>\n",
       "      <td>[&lt;class 'str'&gt;]</td>\n",
       "      <td>100.0</td>\n",
       "      <td>25457</td>\n",
       "      <td>0.0</td>\n",
       "      <td>0</td>\n",
       "    </tr>\n",
       "    <tr>\n",
       "      <th>2</th>\n",
       "      <td>funny</td>\n",
       "      <td>[&lt;class 'str'&gt;]</td>\n",
       "      <td>100.0</td>\n",
       "      <td>25457</td>\n",
       "      <td>0.0</td>\n",
       "      <td>0</td>\n",
       "    </tr>\n",
       "    <tr>\n",
       "      <th>3</th>\n",
       "      <td>posted</td>\n",
       "      <td>[&lt;class 'str'&gt;]</td>\n",
       "      <td>100.0</td>\n",
       "      <td>25457</td>\n",
       "      <td>0.0</td>\n",
       "      <td>0</td>\n",
       "    </tr>\n",
       "    <tr>\n",
       "      <th>4</th>\n",
       "      <td>helpful</td>\n",
       "      <td>[&lt;class 'str'&gt;]</td>\n",
       "      <td>100.0</td>\n",
       "      <td>25457</td>\n",
       "      <td>0.0</td>\n",
       "      <td>0</td>\n",
       "    </tr>\n",
       "    <tr>\n",
       "      <th>5</th>\n",
       "      <td>recommend</td>\n",
       "      <td>[&lt;class 'bool'&gt;]</td>\n",
       "      <td>100.0</td>\n",
       "      <td>25457</td>\n",
       "      <td>0.0</td>\n",
       "      <td>0</td>\n",
       "    </tr>\n",
       "    <tr>\n",
       "      <th>6</th>\n",
       "      <td>review</td>\n",
       "      <td>[&lt;class 'str'&gt;]</td>\n",
       "      <td>100.0</td>\n",
       "      <td>25457</td>\n",
       "      <td>0.0</td>\n",
       "      <td>0</td>\n",
       "    </tr>\n",
       "  </tbody>\n",
       "</table>\n",
       "</div>"
      ],
      "text/plain": [
       "        Column             dType  No_Null_%  No_Null_Qty  Null_%  Null_Qty\n",
       "0  last_edited   [<class 'str'>]      100.0        25457     0.0         0\n",
       "1      item_id   [<class 'str'>]      100.0        25457     0.0         0\n",
       "2        funny   [<class 'str'>]      100.0        25457     0.0         0\n",
       "3       posted   [<class 'str'>]      100.0        25457     0.0         0\n",
       "4      helpful   [<class 'str'>]      100.0        25457     0.0         0\n",
       "5    recommend  [<class 'bool'>]      100.0        25457     0.0         0\n",
       "6       review   [<class 'str'>]      100.0        25457     0.0         0"
      ]
     },
     "execution_count": 134,
     "metadata": {},
     "output_type": "execute_result"
    }
   ],
   "source": [
    "ut.data_overview(df_expanded)"
   ]
  },
  {
   "cell_type": "markdown",
   "metadata": {},
   "source": [
    "#### The presence of string values 'None' in the columns is checked."
   ]
  },
  {
   "cell_type": "code",
   "execution_count": 135,
   "metadata": {},
   "outputs": [
    {
     "name": "stdout",
     "output_type": "stream",
     "text": [
      "       Columna  Porcentaje None\n",
      "0  last_edited              0.0\n",
      "1      item_id              0.0\n",
      "2        funny              0.0\n",
      "3       posted              0.0\n",
      "4      helpful              0.0\n",
      "5    recommend              0.0\n",
      "6       review              0.0\n"
     ]
    }
   ],
   "source": [
    "ut.check_none_values(df_expanded)"
   ]
  },
  {
   "cell_type": "code",
   "execution_count": 136,
   "metadata": {},
   "outputs": [
    {
     "data": {
      "text/plain": [
       "44786"
      ]
     },
     "execution_count": 136,
     "metadata": {},
     "output_type": "execute_result"
    }
   ],
   "source": [
    "total_empty_records = ut.count_empty_strings(df_expanded)\n",
    "total_empty_records"
   ]
  },
  {
   "cell_type": "markdown",
   "metadata": {},
   "source": [
    "#### Empty strings will be imputed with 'Not specified'."
   ]
  },
  {
   "cell_type": "code",
   "execution_count": 137,
   "metadata": {},
   "outputs": [],
   "source": [
    "df_expanded_imputed = df_expanded.replace(\"\", \"Not specified\")"
   ]
  },
  {
   "cell_type": "code",
   "execution_count": 138,
   "metadata": {},
   "outputs": [
    {
     "data": {
      "text/plain": [
       "0"
      ]
     },
     "execution_count": 138,
     "metadata": {},
     "output_type": "execute_result"
    }
   ],
   "source": [
    "total_empty_records = ut.count_empty_strings(df_expanded_imputed)\n",
    "total_empty_records"
   ]
  },
  {
   "cell_type": "markdown",
   "metadata": {},
   "source": [
    "#### We are reviewing the 'last_edited' column to analyze how to represent the date. This column is crucial for the functionality to be developed."
   ]
  },
  {
   "cell_type": "code",
   "execution_count": 139,
   "metadata": {},
   "outputs": [
    {
     "data": {
      "text/plain": [
       "array(['Posted November 5, 2011.', 'Posted June 24, 2014.',\n",
       "       'Posted February 3.', ..., 'Posted May 22, 2013.',\n",
       "       'Posted August 24, 2013.', 'Posted August 10.'], dtype=object)"
      ]
     },
     "execution_count": 139,
     "metadata": {},
     "output_type": "execute_result"
    }
   ],
   "source": [
    "unique_values = df_expanded_imputed['posted'].unique()\n",
    "unique_values"
   ]
  },
  {
   "cell_type": "code",
   "execution_count": 140,
   "metadata": {},
   "outputs": [
    {
     "data": {
      "text/plain": [
       "array([], dtype=object)"
      ]
     },
     "execution_count": 140,
     "metadata": {},
     "output_type": "execute_result"
    }
   ],
   "source": [
    "unique_values_without_last_edited = df_expanded_imputed['posted'][~df_expanded_imputed['posted'].str.contains('Posted')].unique()\n",
    "unique_values_without_last_edited"
   ]
  },
  {
   "cell_type": "markdown",
   "metadata": {},
   "source": [
    "#### Note that all specified values in the 'last edited' column follow a particular format. If the year is not specified, it looks like this: \"Last edited April 4\". With a specified year, it looks like this: \"Last edited June 24, 2014.\""
   ]
  },
  {
   "cell_type": "code",
   "execution_count": 141,
   "metadata": {},
   "outputs": [
    {
     "name": "stdout",
     "output_type": "stream",
     "text": [
      "Fechas con año: 20823\n",
      "Fechas sin año: 4634\n"
     ]
    }
   ],
   "source": [
    "import re\n",
    "def contar_fechas(df):\n",
    "    # Inicializar contadores\n",
    "    con_anio = 0\n",
    "    sin_anio = 0\n",
    "\n",
    "    # Iterar sobre las filas del DataFrame\n",
    "    for indice, fila in df.iterrows():\n",
    "        # Utilizar expresiones regulares para verificar el formato de la fecha\n",
    "        match_con_anio = re.match(r'Posted (\\w+ \\d+, \\d+)', fila['posted'])\n",
    "        match_sin_anio = re.match(r'Posted (\\w+ \\d+)', fila['posted'])\n",
    "\n",
    "        if match_con_anio:\n",
    "            con_anio += 1\n",
    "        elif match_sin_anio:\n",
    "            sin_anio += 1\n",
    "    # Imprimir resultados\n",
    "    print(f'Fechas con año: {con_anio}')\n",
    "    print(f'Fechas sin año: {sin_anio}')\n",
    "\n",
    "# Llamar a la función con tu DataFrame\n",
    "contar_fechas(df_expanded_imputed)\n",
    "\n"
   ]
  },
  {
   "cell_type": "markdown",
   "metadata": {},
   "source": [
    "#### Records with unspecified years in the 'Posted' column are being removed."
   ]
  },
  {
   "cell_type": "code",
   "execution_count": 143,
   "metadata": {},
   "outputs": [],
   "source": [
    "# Crear una máscara booleana para los registros con año\n",
    "mask_con_anio = df_expanded_imputed['posted'].str.match(r'Posted (\\w+ \\d+, \\d+)', na=False)\n",
    "\n",
    "# Filtrar el DataFrame para mantener solo los registros con año\n",
    "df_expanded_con_anio = df_expanded_imputed[mask_con_anio]\n"
   ]
  },
  {
   "cell_type": "code",
   "execution_count": 145,
   "metadata": {},
   "outputs": [
    {
     "name": "stdout",
     "output_type": "stream",
     "text": [
      "Fechas con año: 20823\n",
      "Fechas sin año: 0\n"
     ]
    }
   ],
   "source": [
    "contar_fechas(df_expanded_con_anio)\n"
   ]
  },
  {
   "cell_type": "markdown",
   "metadata": {},
   "source": [
    "#### Basic ETL completed, data types have been successfully adjusted, and there are no null values or duplicates. It is exported to CSV to facilitate the subsequent handling of the dataset.\n",
    "\n",
    "\n",
    "##### The column 'reviews,'contain a list with json dict. They will be kept as strings and handled accordingly as needed."
   ]
  },
  {
   "cell_type": "code",
   "execution_count": 146,
   "metadata": {},
   "outputs": [],
   "source": [
    "path = r'../data/generated/'\n",
    "df_expanded_con_anio.to_csv(path + 'reviews.csv', index=False)"
   ]
  }
 ],
 "metadata": {
  "kernelspec": {
   "display_name": "Python 3",
   "language": "python",
   "name": "python3"
  },
  "language_info": {
   "codemirror_mode": {
    "name": "ipython",
    "version": 3
   },
   "file_extension": ".py",
   "mimetype": "text/x-python",
   "name": "python",
   "nbconvert_exporter": "python",
   "pygments_lexer": "ipython3",
   "version": "3.10.12"
  }
 },
 "nbformat": 4,
 "nbformat_minor": 2
}
