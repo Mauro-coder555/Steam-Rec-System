{
 "cells": [
  {
   "cell_type": "code",
   "execution_count": 1,
   "metadata": {},
   "outputs": [],
   "source": [
    "import pandas as pd\n",
    "import utils as ut\n",
    "import ast\n",
    "import json\n",
    "import importlib"
   ]
  },
  {
   "cell_type": "code",
   "execution_count": 2,
   "metadata": {},
   "outputs": [
    {
     "data": {
      "text/plain": [
       "<module 'utils' from '/home/mauro/HENRY FT17/Proyectos/PI 1/Steam-Rec-System/ETL/utils.py'>"
      ]
     },
     "execution_count": 2,
     "metadata": {},
     "output_type": "execute_result"
    }
   ],
   "source": [
    "importlib.reload(ut)"
   ]
  },
  {
   "cell_type": "code",
   "execution_count": 3,
   "metadata": {},
   "outputs": [],
   "source": [
    "items = []\n",
    "\n",
    "with open(r\"../data/originals/users_items.json\", 'r', encoding='utf-8') as f:\n",
    "    # Loop for insert data into list\n",
    "    for line in f.readlines():\n",
    "        data = ast.literal_eval(line)          \n",
    "        items.append(data)\n",
    "\n",
    "# Convert the list of dictionaries to a DataFrame\n",
    "items_df = pd.DataFrame(items)"
   ]
  },
  {
   "cell_type": "code",
   "execution_count": 4,
   "metadata": {},
   "outputs": [
    {
     "data": {
      "text/plain": [
       "Index(['user_id', 'items_count', 'steam_id', 'user_url', 'items'], dtype='object')"
      ]
     },
     "execution_count": 4,
     "metadata": {},
     "output_type": "execute_result"
    }
   ],
   "source": [
    "items_df.columns"
   ]
  },
  {
   "cell_type": "markdown",
   "metadata": {},
   "source": [
    "#### The first record is reviewed to see its content and the names of the columns."
   ]
  },
  {
   "cell_type": "code",
   "execution_count": 5,
   "metadata": {},
   "outputs": [
    {
     "name": "stdout",
     "output_type": "stream",
     "text": [
      "user_id                                        76561197970982479\n",
      "items_count                                                  277\n",
      "steam_id                                       76561197970982479\n",
      "user_url       http://steamcommunity.com/profiles/76561197970...\n",
      "items          [{'item_id': '10', 'item_name': 'Counter-Strik...\n",
      "Name: 0, dtype: object\n"
     ]
    }
   ],
   "source": [
    "print(items_df.iloc[0])\n"
   ]
  },
  {
   "cell_type": "code",
   "execution_count": 6,
   "metadata": {},
   "outputs": [],
   "source": [
    "# This step is applied to convert the lists into strings and thus be able to generate an overview of the data.\n",
    "items_df['items'] = items_df['items'].apply(str)"
   ]
  },
  {
   "cell_type": "code",
   "execution_count": 7,
   "metadata": {},
   "outputs": [
    {
     "name": "stdout",
     "output_type": "stream",
     "text": [
      "[<class 'str'>]\n"
     ]
    }
   ],
   "source": [
    "# The conversion is verified.\n",
    "print(items_df['items'].apply(type).unique())"
   ]
  },
  {
   "cell_type": "code",
   "execution_count": 8,
   "metadata": {},
   "outputs": [
    {
     "name": "stdout",
     "output_type": "stream",
     "text": [
      "\n",
      "Total rows:  88310\n",
      "\n",
      "Total full null rows:  0\n",
      "\n",
      "Total duplicated rows: 657\n"
     ]
    },
    {
     "data": {
      "text/html": [
       "<div>\n",
       "<style scoped>\n",
       "    .dataframe tbody tr th:only-of-type {\n",
       "        vertical-align: middle;\n",
       "    }\n",
       "\n",
       "    .dataframe tbody tr th {\n",
       "        vertical-align: top;\n",
       "    }\n",
       "\n",
       "    .dataframe thead th {\n",
       "        text-align: right;\n",
       "    }\n",
       "</style>\n",
       "<table border=\"1\" class=\"dataframe\">\n",
       "  <thead>\n",
       "    <tr style=\"text-align: right;\">\n",
       "      <th></th>\n",
       "      <th>Column</th>\n",
       "      <th>dType</th>\n",
       "      <th>No_Null_%</th>\n",
       "      <th>No_Null_Qty</th>\n",
       "      <th>Null_%</th>\n",
       "      <th>Null_Qty</th>\n",
       "    </tr>\n",
       "  </thead>\n",
       "  <tbody>\n",
       "    <tr>\n",
       "      <th>0</th>\n",
       "      <td>user_id</td>\n",
       "      <td>[&lt;class 'str'&gt;]</td>\n",
       "      <td>100.0</td>\n",
       "      <td>88310</td>\n",
       "      <td>0.0</td>\n",
       "      <td>0</td>\n",
       "    </tr>\n",
       "    <tr>\n",
       "      <th>1</th>\n",
       "      <td>items_count</td>\n",
       "      <td>[&lt;class 'int'&gt;]</td>\n",
       "      <td>100.0</td>\n",
       "      <td>88310</td>\n",
       "      <td>0.0</td>\n",
       "      <td>0</td>\n",
       "    </tr>\n",
       "    <tr>\n",
       "      <th>2</th>\n",
       "      <td>steam_id</td>\n",
       "      <td>[&lt;class 'str'&gt;]</td>\n",
       "      <td>100.0</td>\n",
       "      <td>88310</td>\n",
       "      <td>0.0</td>\n",
       "      <td>0</td>\n",
       "    </tr>\n",
       "    <tr>\n",
       "      <th>3</th>\n",
       "      <td>user_url</td>\n",
       "      <td>[&lt;class 'str'&gt;]</td>\n",
       "      <td>100.0</td>\n",
       "      <td>88310</td>\n",
       "      <td>0.0</td>\n",
       "      <td>0</td>\n",
       "    </tr>\n",
       "    <tr>\n",
       "      <th>4</th>\n",
       "      <td>items</td>\n",
       "      <td>[&lt;class 'str'&gt;]</td>\n",
       "      <td>100.0</td>\n",
       "      <td>88310</td>\n",
       "      <td>0.0</td>\n",
       "      <td>0</td>\n",
       "    </tr>\n",
       "  </tbody>\n",
       "</table>\n",
       "</div>"
      ],
      "text/plain": [
       "        Column            dType  No_Null_%  No_Null_Qty  Null_%  Null_Qty\n",
       "0      user_id  [<class 'str'>]      100.0        88310     0.0         0\n",
       "1  items_count  [<class 'int'>]      100.0        88310     0.0         0\n",
       "2     steam_id  [<class 'str'>]      100.0        88310     0.0         0\n",
       "3     user_url  [<class 'str'>]      100.0        88310     0.0         0\n",
       "4        items  [<class 'str'>]      100.0        88310     0.0         0"
      ]
     },
     "execution_count": 8,
     "metadata": {},
     "output_type": "execute_result"
    }
   ],
   "source": [
    "ut.data_overview(items_df)"
   ]
  },
  {
   "cell_type": "markdown",
   "metadata": {},
   "source": [
    "#### There are no nulls, so we proceed to remove duplicates."
   ]
  },
  {
   "cell_type": "code",
   "execution_count": 9,
   "metadata": {},
   "outputs": [],
   "source": [
    "items_df.drop_duplicates(inplace=True)"
   ]
  },
  {
   "cell_type": "code",
   "execution_count": 10,
   "metadata": {},
   "outputs": [
    {
     "name": "stdout",
     "output_type": "stream",
     "text": [
      "\n",
      "Total rows:  87653\n",
      "\n",
      "Total full null rows:  0\n",
      "\n",
      "Total duplicated rows: 0\n"
     ]
    },
    {
     "data": {
      "text/html": [
       "<div>\n",
       "<style scoped>\n",
       "    .dataframe tbody tr th:only-of-type {\n",
       "        vertical-align: middle;\n",
       "    }\n",
       "\n",
       "    .dataframe tbody tr th {\n",
       "        vertical-align: top;\n",
       "    }\n",
       "\n",
       "    .dataframe thead th {\n",
       "        text-align: right;\n",
       "    }\n",
       "</style>\n",
       "<table border=\"1\" class=\"dataframe\">\n",
       "  <thead>\n",
       "    <tr style=\"text-align: right;\">\n",
       "      <th></th>\n",
       "      <th>Column</th>\n",
       "      <th>dType</th>\n",
       "      <th>No_Null_%</th>\n",
       "      <th>No_Null_Qty</th>\n",
       "      <th>Null_%</th>\n",
       "      <th>Null_Qty</th>\n",
       "    </tr>\n",
       "  </thead>\n",
       "  <tbody>\n",
       "    <tr>\n",
       "      <th>0</th>\n",
       "      <td>user_id</td>\n",
       "      <td>[&lt;class 'str'&gt;]</td>\n",
       "      <td>100.0</td>\n",
       "      <td>87653</td>\n",
       "      <td>0.0</td>\n",
       "      <td>0</td>\n",
       "    </tr>\n",
       "    <tr>\n",
       "      <th>1</th>\n",
       "      <td>items_count</td>\n",
       "      <td>[&lt;class 'int'&gt;]</td>\n",
       "      <td>100.0</td>\n",
       "      <td>87653</td>\n",
       "      <td>0.0</td>\n",
       "      <td>0</td>\n",
       "    </tr>\n",
       "    <tr>\n",
       "      <th>2</th>\n",
       "      <td>steam_id</td>\n",
       "      <td>[&lt;class 'str'&gt;]</td>\n",
       "      <td>100.0</td>\n",
       "      <td>87653</td>\n",
       "      <td>0.0</td>\n",
       "      <td>0</td>\n",
       "    </tr>\n",
       "    <tr>\n",
       "      <th>3</th>\n",
       "      <td>user_url</td>\n",
       "      <td>[&lt;class 'str'&gt;]</td>\n",
       "      <td>100.0</td>\n",
       "      <td>87653</td>\n",
       "      <td>0.0</td>\n",
       "      <td>0</td>\n",
       "    </tr>\n",
       "    <tr>\n",
       "      <th>4</th>\n",
       "      <td>items</td>\n",
       "      <td>[&lt;class 'str'&gt;]</td>\n",
       "      <td>100.0</td>\n",
       "      <td>87653</td>\n",
       "      <td>0.0</td>\n",
       "      <td>0</td>\n",
       "    </tr>\n",
       "  </tbody>\n",
       "</table>\n",
       "</div>"
      ],
      "text/plain": [
       "        Column            dType  No_Null_%  No_Null_Qty  Null_%  Null_Qty\n",
       "0      user_id  [<class 'str'>]      100.0        87653     0.0         0\n",
       "1  items_count  [<class 'int'>]      100.0        87653     0.0         0\n",
       "2     steam_id  [<class 'str'>]      100.0        87653     0.0         0\n",
       "3     user_url  [<class 'str'>]      100.0        87653     0.0         0\n",
       "4        items  [<class 'str'>]      100.0        87653     0.0         0"
      ]
     },
     "execution_count": 10,
     "metadata": {},
     "output_type": "execute_result"
    }
   ],
   "source": [
    "ut.data_overview(items_df)"
   ]
  },
  {
   "cell_type": "markdown",
   "metadata": {},
   "source": [
    "#### The presence of string values 'None' in the columns is checked."
   ]
  },
  {
   "cell_type": "code",
   "execution_count": 11,
   "metadata": {},
   "outputs": [
    {
     "name": "stdout",
     "output_type": "stream",
     "text": [
      "       Columna  Porcentaje None\n",
      "0      user_id              0.0\n",
      "1  items_count              0.0\n",
      "2     steam_id              0.0\n",
      "3     user_url              0.0\n",
      "4        items              0.0\n"
     ]
    }
   ],
   "source": [
    "ut.check_none_values(items_df)"
   ]
  },
  {
   "cell_type": "markdown",
   "metadata": {},
   "source": [
    "#### Process to unnest the column of items, which contains nested data."
   ]
  },
  {
   "cell_type": "code",
   "execution_count": 12,
   "metadata": {},
   "outputs": [],
   "source": [
    "# Create an empty DataFrame to store the results\n",
    "new_columns = [\"item_id\", \"item_name\", \"playtime_forever\", \"playtime_2weeks\"]\n",
    "items_column_df = pd.DataFrame(columns=items_df.columns.tolist() + new_columns)\n",
    "\n",
    "# Iterate over the rows of the original DataFrame\n",
    "for index, row in items_df.iterrows():\n",
    "    # Evaluate the string in the \"items\" column as a literal Python expression\n",
    "    try:\n",
    "        item_list = ast.literal_eval(row[\"items\"])\n",
    "    except (ValueError, SyntaxError):\n",
    "        item_list = []\n",
    "\n",
    "    # Create new columns with the unnested values\n",
    "    if isinstance(item_list, list) and item_list:\n",
    "        item_data = item_list[0]  # Take the first element of the list\n",
    "        for col in new_columns:\n",
    "            items_column_df.at[index, col] = item_data.get(col, None)\n",
    "    else:\n",
    "        # If the list is empty or not valid, set null values in the new columns\n",
    "        for col in new_columns:\n",
    "            items_column_df.at[index, col] = None"
   ]
  },
  {
   "cell_type": "code",
   "execution_count": 13,
   "metadata": {},
   "outputs": [
    {
     "data": {
      "text/plain": [
       "Index(['user_id', 'items_count', 'steam_id', 'user_url', 'items', 'item_id',\n",
       "       'item_name', 'playtime_forever', 'playtime_2weeks'],\n",
       "      dtype='object')"
      ]
     },
     "execution_count": 13,
     "metadata": {},
     "output_type": "execute_result"
    }
   ],
   "source": [
    "items_column_df.columns"
   ]
  },
  {
   "cell_type": "code",
   "execution_count": 14,
   "metadata": {},
   "outputs": [
    {
     "name": "stdout",
     "output_type": "stream",
     "text": [
      "\n",
      "Total rows:  87653\n",
      "\n",
      "Total full null rows:  16714\n",
      "\n",
      "Total duplicated rows: 50717\n"
     ]
    },
    {
     "data": {
      "text/html": [
       "<div>\n",
       "<style scoped>\n",
       "    .dataframe tbody tr th:only-of-type {\n",
       "        vertical-align: middle;\n",
       "    }\n",
       "\n",
       "    .dataframe tbody tr th {\n",
       "        vertical-align: top;\n",
       "    }\n",
       "\n",
       "    .dataframe thead th {\n",
       "        text-align: right;\n",
       "    }\n",
       "</style>\n",
       "<table border=\"1\" class=\"dataframe\">\n",
       "  <thead>\n",
       "    <tr style=\"text-align: right;\">\n",
       "      <th></th>\n",
       "      <th>Column</th>\n",
       "      <th>dType</th>\n",
       "      <th>No_Null_%</th>\n",
       "      <th>No_Null_Qty</th>\n",
       "      <th>Null_%</th>\n",
       "      <th>Null_Qty</th>\n",
       "    </tr>\n",
       "  </thead>\n",
       "  <tbody>\n",
       "    <tr>\n",
       "      <th>0</th>\n",
       "      <td>user_id</td>\n",
       "      <td>[&lt;class 'float'&gt;]</td>\n",
       "      <td>0.00</td>\n",
       "      <td>0</td>\n",
       "      <td>100.00</td>\n",
       "      <td>87653</td>\n",
       "    </tr>\n",
       "    <tr>\n",
       "      <th>1</th>\n",
       "      <td>items_count</td>\n",
       "      <td>[&lt;class 'float'&gt;]</td>\n",
       "      <td>0.00</td>\n",
       "      <td>0</td>\n",
       "      <td>100.00</td>\n",
       "      <td>87653</td>\n",
       "    </tr>\n",
       "    <tr>\n",
       "      <th>2</th>\n",
       "      <td>steam_id</td>\n",
       "      <td>[&lt;class 'float'&gt;]</td>\n",
       "      <td>0.00</td>\n",
       "      <td>0</td>\n",
       "      <td>100.00</td>\n",
       "      <td>87653</td>\n",
       "    </tr>\n",
       "    <tr>\n",
       "      <th>3</th>\n",
       "      <td>user_url</td>\n",
       "      <td>[&lt;class 'float'&gt;]</td>\n",
       "      <td>0.00</td>\n",
       "      <td>0</td>\n",
       "      <td>100.00</td>\n",
       "      <td>87653</td>\n",
       "    </tr>\n",
       "    <tr>\n",
       "      <th>4</th>\n",
       "      <td>items</td>\n",
       "      <td>[&lt;class 'float'&gt;]</td>\n",
       "      <td>0.00</td>\n",
       "      <td>0</td>\n",
       "      <td>100.00</td>\n",
       "      <td>87653</td>\n",
       "    </tr>\n",
       "    <tr>\n",
       "      <th>5</th>\n",
       "      <td>item_id</td>\n",
       "      <td>[&lt;class 'str'&gt;, &lt;class 'NoneType'&gt;]</td>\n",
       "      <td>80.93</td>\n",
       "      <td>70939</td>\n",
       "      <td>19.07</td>\n",
       "      <td>16714</td>\n",
       "    </tr>\n",
       "    <tr>\n",
       "      <th>6</th>\n",
       "      <td>item_name</td>\n",
       "      <td>[&lt;class 'str'&gt;, &lt;class 'NoneType'&gt;]</td>\n",
       "      <td>80.93</td>\n",
       "      <td>70939</td>\n",
       "      <td>19.07</td>\n",
       "      <td>16714</td>\n",
       "    </tr>\n",
       "    <tr>\n",
       "      <th>7</th>\n",
       "      <td>playtime_forever</td>\n",
       "      <td>[&lt;class 'int'&gt;, &lt;class 'NoneType'&gt;]</td>\n",
       "      <td>80.93</td>\n",
       "      <td>70939</td>\n",
       "      <td>19.07</td>\n",
       "      <td>16714</td>\n",
       "    </tr>\n",
       "    <tr>\n",
       "      <th>8</th>\n",
       "      <td>playtime_2weeks</td>\n",
       "      <td>[&lt;class 'int'&gt;, &lt;class 'NoneType'&gt;]</td>\n",
       "      <td>80.93</td>\n",
       "      <td>70939</td>\n",
       "      <td>19.07</td>\n",
       "      <td>16714</td>\n",
       "    </tr>\n",
       "  </tbody>\n",
       "</table>\n",
       "</div>"
      ],
      "text/plain": [
       "             Column                                dType  No_Null_%  \\\n",
       "0           user_id                    [<class 'float'>]       0.00   \n",
       "1       items_count                    [<class 'float'>]       0.00   \n",
       "2          steam_id                    [<class 'float'>]       0.00   \n",
       "3          user_url                    [<class 'float'>]       0.00   \n",
       "4             items                    [<class 'float'>]       0.00   \n",
       "5           item_id  [<class 'str'>, <class 'NoneType'>]      80.93   \n",
       "6         item_name  [<class 'str'>, <class 'NoneType'>]      80.93   \n",
       "7  playtime_forever  [<class 'int'>, <class 'NoneType'>]      80.93   \n",
       "8   playtime_2weeks  [<class 'int'>, <class 'NoneType'>]      80.93   \n",
       "\n",
       "   No_Null_Qty  Null_%  Null_Qty  \n",
       "0            0  100.00     87653  \n",
       "1            0  100.00     87653  \n",
       "2            0  100.00     87653  \n",
       "3            0  100.00     87653  \n",
       "4            0  100.00     87653  \n",
       "5        70939   19.07     16714  \n",
       "6        70939   19.07     16714  \n",
       "7        70939   19.07     16714  \n",
       "8        70939   19.07     16714  "
      ]
     },
     "execution_count": 14,
     "metadata": {},
     "output_type": "execute_result"
    }
   ],
   "source": [
    "ut.data_overview(items_column_df)"
   ]
  },
  {
   "cell_type": "markdown",
   "metadata": {},
   "source": [
    "#### Obtain a dataset with the information from the original dataset and the unnested 'items' columns."
   ]
  },
  {
   "cell_type": "code",
   "execution_count": 29,
   "metadata": {},
   "outputs": [],
   "source": [
    "final_df = items_df.copy()\n",
    "\n",
    "\n",
    "final_df[\"item_id\"] = items_column_df[\"item_id\"]\n",
    "final_df[\"item_name\"] = items_column_df[\"item_name\"]\n",
    "final_df[\"playtime_forever\"] = items_column_df[\"playtime_forever\"]\n",
    "final_df[\"playtime_2weeks\"] = items_column_df[\"playtime_2weeks\"]"
   ]
  },
  {
   "cell_type": "code",
   "execution_count": 30,
   "metadata": {},
   "outputs": [
    {
     "name": "stdout",
     "output_type": "stream",
     "text": [
      "\n",
      "Total rows:  87653\n",
      "\n",
      "Total full null rows:  0\n",
      "\n",
      "Total duplicated rows: 0\n"
     ]
    },
    {
     "data": {
      "text/html": [
       "<div>\n",
       "<style scoped>\n",
       "    .dataframe tbody tr th:only-of-type {\n",
       "        vertical-align: middle;\n",
       "    }\n",
       "\n",
       "    .dataframe tbody tr th {\n",
       "        vertical-align: top;\n",
       "    }\n",
       "\n",
       "    .dataframe thead th {\n",
       "        text-align: right;\n",
       "    }\n",
       "</style>\n",
       "<table border=\"1\" class=\"dataframe\">\n",
       "  <thead>\n",
       "    <tr style=\"text-align: right;\">\n",
       "      <th></th>\n",
       "      <th>Column</th>\n",
       "      <th>dType</th>\n",
       "      <th>No_Null_%</th>\n",
       "      <th>No_Null_Qty</th>\n",
       "      <th>Null_%</th>\n",
       "      <th>Null_Qty</th>\n",
       "    </tr>\n",
       "  </thead>\n",
       "  <tbody>\n",
       "    <tr>\n",
       "      <th>0</th>\n",
       "      <td>user_id</td>\n",
       "      <td>[&lt;class 'str'&gt;]</td>\n",
       "      <td>100.00</td>\n",
       "      <td>87653</td>\n",
       "      <td>0.00</td>\n",
       "      <td>0</td>\n",
       "    </tr>\n",
       "    <tr>\n",
       "      <th>1</th>\n",
       "      <td>items_count</td>\n",
       "      <td>[&lt;class 'int'&gt;]</td>\n",
       "      <td>100.00</td>\n",
       "      <td>87653</td>\n",
       "      <td>0.00</td>\n",
       "      <td>0</td>\n",
       "    </tr>\n",
       "    <tr>\n",
       "      <th>2</th>\n",
       "      <td>steam_id</td>\n",
       "      <td>[&lt;class 'str'&gt;]</td>\n",
       "      <td>100.00</td>\n",
       "      <td>87653</td>\n",
       "      <td>0.00</td>\n",
       "      <td>0</td>\n",
       "    </tr>\n",
       "    <tr>\n",
       "      <th>3</th>\n",
       "      <td>user_url</td>\n",
       "      <td>[&lt;class 'str'&gt;]</td>\n",
       "      <td>100.00</td>\n",
       "      <td>87653</td>\n",
       "      <td>0.00</td>\n",
       "      <td>0</td>\n",
       "    </tr>\n",
       "    <tr>\n",
       "      <th>4</th>\n",
       "      <td>items</td>\n",
       "      <td>[&lt;class 'str'&gt;]</td>\n",
       "      <td>100.00</td>\n",
       "      <td>87653</td>\n",
       "      <td>0.00</td>\n",
       "      <td>0</td>\n",
       "    </tr>\n",
       "    <tr>\n",
       "      <th>5</th>\n",
       "      <td>item_id</td>\n",
       "      <td>[&lt;class 'str'&gt;, &lt;class 'NoneType'&gt;]</td>\n",
       "      <td>80.93</td>\n",
       "      <td>70939</td>\n",
       "      <td>19.07</td>\n",
       "      <td>16714</td>\n",
       "    </tr>\n",
       "    <tr>\n",
       "      <th>6</th>\n",
       "      <td>item_name</td>\n",
       "      <td>[&lt;class 'str'&gt;, &lt;class 'NoneType'&gt;]</td>\n",
       "      <td>80.93</td>\n",
       "      <td>70939</td>\n",
       "      <td>19.07</td>\n",
       "      <td>16714</td>\n",
       "    </tr>\n",
       "    <tr>\n",
       "      <th>7</th>\n",
       "      <td>playtime_forever</td>\n",
       "      <td>[&lt;class 'int'&gt;, &lt;class 'NoneType'&gt;]</td>\n",
       "      <td>80.93</td>\n",
       "      <td>70939</td>\n",
       "      <td>19.07</td>\n",
       "      <td>16714</td>\n",
       "    </tr>\n",
       "    <tr>\n",
       "      <th>8</th>\n",
       "      <td>playtime_2weeks</td>\n",
       "      <td>[&lt;class 'int'&gt;, &lt;class 'NoneType'&gt;]</td>\n",
       "      <td>80.93</td>\n",
       "      <td>70939</td>\n",
       "      <td>19.07</td>\n",
       "      <td>16714</td>\n",
       "    </tr>\n",
       "  </tbody>\n",
       "</table>\n",
       "</div>"
      ],
      "text/plain": [
       "             Column                                dType  No_Null_%  \\\n",
       "0           user_id                      [<class 'str'>]     100.00   \n",
       "1       items_count                      [<class 'int'>]     100.00   \n",
       "2          steam_id                      [<class 'str'>]     100.00   \n",
       "3          user_url                      [<class 'str'>]     100.00   \n",
       "4             items                      [<class 'str'>]     100.00   \n",
       "5           item_id  [<class 'str'>, <class 'NoneType'>]      80.93   \n",
       "6         item_name  [<class 'str'>, <class 'NoneType'>]      80.93   \n",
       "7  playtime_forever  [<class 'int'>, <class 'NoneType'>]      80.93   \n",
       "8   playtime_2weeks  [<class 'int'>, <class 'NoneType'>]      80.93   \n",
       "\n",
       "   No_Null_Qty  Null_%  Null_Qty  \n",
       "0        87653    0.00         0  \n",
       "1        87653    0.00         0  \n",
       "2        87653    0.00         0  \n",
       "3        87653    0.00         0  \n",
       "4        87653    0.00         0  \n",
       "5        70939   19.07     16714  \n",
       "6        70939   19.07     16714  \n",
       "7        70939   19.07     16714  \n",
       "8        70939   19.07     16714  "
      ]
     },
     "execution_count": 30,
     "metadata": {},
     "output_type": "execute_result"
    }
   ],
   "source": [
    "ut.data_overview(final_df)"
   ]
  },
  {
   "cell_type": "code",
   "execution_count": 31,
   "metadata": {},
   "outputs": [
    {
     "name": "stdout",
     "output_type": "stream",
     "text": [
      "            Columna  Porcentaje None\n",
      "0           user_id              0.0\n",
      "1       items_count              0.0\n",
      "2          steam_id              0.0\n",
      "3          user_url              0.0\n",
      "4             items              0.0\n",
      "5           item_id              0.0\n",
      "6         item_name              0.0\n",
      "7  playtime_forever              0.0\n",
      "8   playtime_2weeks              0.0\n"
     ]
    }
   ],
   "source": [
    "ut.check_none_values(final_df)"
   ]
  },
  {
   "cell_type": "code",
   "execution_count": 24,
   "metadata": {},
   "outputs": [],
   "source": []
  },
  {
   "cell_type": "markdown",
   "metadata": {},
   "source": [
    "#### Duplicate values are removed from the final dataset. The null values were imputed as 'Not specified' for str cases and the mean for numeric cases"
   ]
  },
  {
   "cell_type": "code",
   "execution_count": 32,
   "metadata": {},
   "outputs": [],
   "source": [
    "# Imputar valores nulos en las columnas item_id e item_name con \"Not specified\"\n",
    "final_df['item_id'].fillna('Not specified', inplace=True)\n",
    "final_df['item_name'].fillna('Not specified', inplace=True)\n",
    "\n",
    "# Imputar valores nulos en las columnas playtime_forever y playtime_2weeks con la media\n",
    "mean_playtime_forever = final_df['playtime_forever'].mean()\n",
    "mean_playtime_2weeks = final_df['playtime_2weeks'].mean()\n",
    "\n",
    "final_df['playtime_forever'].fillna(mean_playtime_forever, inplace=True)\n",
    "final_df['playtime_2weeks'].fillna(mean_playtime_2weeks, inplace=True)\n",
    "\n",
    "final_df = final_df.drop_duplicates()\n",
    "final_df = final_df.reset_index(drop=True)"
   ]
  },
  {
   "cell_type": "code",
   "execution_count": 37,
   "metadata": {},
   "outputs": [
    {
     "name": "stdout",
     "output_type": "stream",
     "text": [
      "\n",
      "Total rows:  87653\n",
      "\n",
      "Total full null rows:  0\n",
      "\n",
      "Total duplicated rows: 0\n"
     ]
    },
    {
     "data": {
      "text/html": [
       "<div>\n",
       "<style scoped>\n",
       "    .dataframe tbody tr th:only-of-type {\n",
       "        vertical-align: middle;\n",
       "    }\n",
       "\n",
       "    .dataframe tbody tr th {\n",
       "        vertical-align: top;\n",
       "    }\n",
       "\n",
       "    .dataframe thead th {\n",
       "        text-align: right;\n",
       "    }\n",
       "</style>\n",
       "<table border=\"1\" class=\"dataframe\">\n",
       "  <thead>\n",
       "    <tr style=\"text-align: right;\">\n",
       "      <th></th>\n",
       "      <th>Column</th>\n",
       "      <th>dType</th>\n",
       "      <th>No_Null_%</th>\n",
       "      <th>No_Null_Qty</th>\n",
       "      <th>Null_%</th>\n",
       "      <th>Null_Qty</th>\n",
       "    </tr>\n",
       "  </thead>\n",
       "  <tbody>\n",
       "    <tr>\n",
       "      <th>0</th>\n",
       "      <td>user_id</td>\n",
       "      <td>[&lt;class 'str'&gt;]</td>\n",
       "      <td>100.0</td>\n",
       "      <td>87653</td>\n",
       "      <td>0.0</td>\n",
       "      <td>0</td>\n",
       "    </tr>\n",
       "    <tr>\n",
       "      <th>1</th>\n",
       "      <td>items_count</td>\n",
       "      <td>[&lt;class 'int'&gt;]</td>\n",
       "      <td>100.0</td>\n",
       "      <td>87653</td>\n",
       "      <td>0.0</td>\n",
       "      <td>0</td>\n",
       "    </tr>\n",
       "    <tr>\n",
       "      <th>2</th>\n",
       "      <td>steam_id</td>\n",
       "      <td>[&lt;class 'str'&gt;]</td>\n",
       "      <td>100.0</td>\n",
       "      <td>87653</td>\n",
       "      <td>0.0</td>\n",
       "      <td>0</td>\n",
       "    </tr>\n",
       "    <tr>\n",
       "      <th>3</th>\n",
       "      <td>user_url</td>\n",
       "      <td>[&lt;class 'str'&gt;]</td>\n",
       "      <td>100.0</td>\n",
       "      <td>87653</td>\n",
       "      <td>0.0</td>\n",
       "      <td>0</td>\n",
       "    </tr>\n",
       "    <tr>\n",
       "      <th>4</th>\n",
       "      <td>items</td>\n",
       "      <td>[&lt;class 'str'&gt;]</td>\n",
       "      <td>100.0</td>\n",
       "      <td>87653</td>\n",
       "      <td>0.0</td>\n",
       "      <td>0</td>\n",
       "    </tr>\n",
       "    <tr>\n",
       "      <th>5</th>\n",
       "      <td>item_id</td>\n",
       "      <td>[&lt;class 'str'&gt;]</td>\n",
       "      <td>100.0</td>\n",
       "      <td>87653</td>\n",
       "      <td>0.0</td>\n",
       "      <td>0</td>\n",
       "    </tr>\n",
       "    <tr>\n",
       "      <th>6</th>\n",
       "      <td>item_name</td>\n",
       "      <td>[&lt;class 'str'&gt;]</td>\n",
       "      <td>100.0</td>\n",
       "      <td>87653</td>\n",
       "      <td>0.0</td>\n",
       "      <td>0</td>\n",
       "    </tr>\n",
       "    <tr>\n",
       "      <th>7</th>\n",
       "      <td>playtime_forever</td>\n",
       "      <td>[&lt;class 'float'&gt;]</td>\n",
       "      <td>100.0</td>\n",
       "      <td>87653</td>\n",
       "      <td>0.0</td>\n",
       "      <td>0</td>\n",
       "    </tr>\n",
       "    <tr>\n",
       "      <th>8</th>\n",
       "      <td>playtime_2weeks</td>\n",
       "      <td>[&lt;class 'float'&gt;]</td>\n",
       "      <td>100.0</td>\n",
       "      <td>87653</td>\n",
       "      <td>0.0</td>\n",
       "      <td>0</td>\n",
       "    </tr>\n",
       "  </tbody>\n",
       "</table>\n",
       "</div>"
      ],
      "text/plain": [
       "             Column              dType  No_Null_%  No_Null_Qty  Null_%  \\\n",
       "0           user_id    [<class 'str'>]      100.0        87653     0.0   \n",
       "1       items_count    [<class 'int'>]      100.0        87653     0.0   \n",
       "2          steam_id    [<class 'str'>]      100.0        87653     0.0   \n",
       "3          user_url    [<class 'str'>]      100.0        87653     0.0   \n",
       "4             items    [<class 'str'>]      100.0        87653     0.0   \n",
       "5           item_id    [<class 'str'>]      100.0        87653     0.0   \n",
       "6         item_name    [<class 'str'>]      100.0        87653     0.0   \n",
       "7  playtime_forever  [<class 'float'>]      100.0        87653     0.0   \n",
       "8   playtime_2weeks  [<class 'float'>]      100.0        87653     0.0   \n",
       "\n",
       "   Null_Qty  \n",
       "0         0  \n",
       "1         0  \n",
       "2         0  \n",
       "3         0  \n",
       "4         0  \n",
       "5         0  \n",
       "6         0  \n",
       "7         0  \n",
       "8         0  "
      ]
     },
     "execution_count": 37,
     "metadata": {},
     "output_type": "execute_result"
    }
   ],
   "source": [
    "ut.data_overview(final_df)"
   ]
  },
  {
   "cell_type": "code",
   "execution_count": 36,
   "metadata": {},
   "outputs": [
    {
     "name": "stdout",
     "output_type": "stream",
     "text": [
      "user_id                                             76561197970982479\n",
      "items_count                                                       277\n",
      "steam_id                                            76561197970982479\n",
      "user_url            http://steamcommunity.com/profiles/76561197970...\n",
      "items               [{'item_id': '10', 'item_name': 'Counter-Strik...\n",
      "item_id                                                            10\n",
      "item_name                                              Counter-Strike\n",
      "playtime_forever                                                  6.0\n",
      "playtime_2weeks                                                   0.0\n",
      "Name: 0, dtype: object\n",
      "object\n"
     ]
    }
   ],
   "source": [
    "print(final_df.iloc[0])\n",
    "\n",
    "\n",
    "print(final_df['item_id'].dtypes)\n"
   ]
  },
  {
   "cell_type": "code",
   "execution_count": 39,
   "metadata": {},
   "outputs": [
    {
     "name": "stdout",
     "output_type": "stream",
     "text": [
      "Empty DataFrame\n",
      "Columns: [user_id, items_count, steam_id, user_url, items, item_id, item_name, playtime_forever, playtime_2weeks]\n",
      "Index: []\n"
     ]
    }
   ],
   "source": [
    "# Verifica qué valores de la columna 'item_id' no son strings\n",
    "non_str_values = final_df['item_id'].apply(lambda x: type(x) != str)\n",
    "\n",
    "# Filtra el DataFrame para mostrar solo las filas con valores no string en 'item_id'\n",
    "non_str_items = final_df[non_str_values]\n",
    "\n",
    "# Muestra el resultado\n",
    "print(non_str_items)"
   ]
  },
  {
   "cell_type": "markdown",
   "metadata": {},
   "source": [
    "#### Basic ETL completed, data types have been successfully adjusted, and there are no null values or duplicates. The 'items' column has been unnested. It is exported to CSV to facilitate the subsequent handling of the dataset."
   ]
  },
  {
   "cell_type": "code",
   "execution_count": 34,
   "metadata": {},
   "outputs": [],
   "source": [
    "path = r'../data/generated/'\n",
    "final_df.to_csv(path + 'items.csv', index=False)"
   ]
  }
 ],
 "metadata": {
  "kernelspec": {
   "display_name": "Python 3",
   "language": "python",
   "name": "python3"
  },
  "language_info": {
   "codemirror_mode": {
    "name": "ipython",
    "version": 3
   },
   "file_extension": ".py",
   "mimetype": "text/x-python",
   "name": "python",
   "nbconvert_exporter": "python",
   "pygments_lexer": "ipython3",
   "version": "3.10.12"
  }
 },
 "nbformat": 4,
 "nbformat_minor": 2
}
