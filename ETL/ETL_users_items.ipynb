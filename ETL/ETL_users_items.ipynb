{
 "cells": [
  {
   "cell_type": "code",
   "execution_count": 10,
   "metadata": {},
   "outputs": [],
   "source": [
    "import pandas as pd\n",
    "import utils as ut\n",
    "import ast\n",
    "import json"
   ]
  },
  {
   "cell_type": "code",
   "execution_count": 3,
   "metadata": {},
   "outputs": [],
   "source": [
    "path = r\"../data/original/australian_users_items.json\"\n",
    "rows2 = []\n",
    "\n",
    "with open (path, encoding='utf-8') as f:\n",
    "    for line in f.readlines():\n",
    "        rows2.append(ast.literal_eval(line))\n",
    "\n",
    "df_items = pd.DataFrame(rows2)"
   ]
  },
  {
   "cell_type": "code",
   "execution_count": null,
   "metadata": {},
   "outputs": [],
   "source": [
    "import dask\n",
    "import dask.dataframe as dd\n",
    "import json\n",
    "\n",
    "# Ruta del archivo JSON\n",
    "path = r\"../data/original/australian_users_items.json\"\n",
    "\n",
    "# Función para cargar y desglosar el anidamiento del JSON\n",
    "def load_and_flatten_json(file_path):\n",
    "    # Leer el archivo JSON como un Dask DataFrame\n",
    "    ddf = dd.read_json(file_path, lines=True)\n",
    "\n",
    "    # Desglosar el diccionario en la última columna\n",
    "    df = dd.from_pandas(ddf['columna3'].apply(pd.Series), npartitions=ddf.npartitions)\n",
    "\n",
    "    # Concatenar las columnas desglosadas con el resto del DataFrame\n",
    "    ddf = dd.concat([ddf[['columna1', 'columna2']], df], axis=1)\n",
    "\n",
    "    return ddf.compute()\n",
    "\n",
    "# Cargar el DataFrame\n",
    "df = load_and_flatten_json(path)"
   ]
  },
  {
   "cell_type": "code",
   "execution_count": null,
   "metadata": {},
   "outputs": [],
   "source": [
    "ut.data_overview(items_df)"
   ]
  }
 ],
 "metadata": {
  "kernelspec": {
   "display_name": "Python 3",
   "language": "python",
   "name": "python3"
  },
  "language_info": {
   "codemirror_mode": {
    "name": "ipython",
    "version": 3
   },
   "file_extension": ".py",
   "mimetype": "text/x-python",
   "name": "python",
   "nbconvert_exporter": "python",
   "pygments_lexer": "ipython3",
   "version": "3.10.12"
  }
 },
 "nbformat": 4,
 "nbformat_minor": 2
}
